{
 "cells": [
  {
   "cell_type": "code",
   "execution_count": 1,
   "metadata": {},
   "outputs": [
    {
     "ename": "NameError",
     "evalue": "name 'filepath2' is not defined",
     "output_type": "error",
     "traceback": [
      "\u001b[1;31m---------------------------------------------------------------------------\u001b[0m",
      "\u001b[1;31mNameError\u001b[0m                                 Traceback (most recent call last)",
      "\u001b[1;32m<ipython-input-1-beb0c2ee507b>\u001b[0m in \u001b[0;36m<module>\u001b[1;34m\u001b[0m\n\u001b[0;32m     33\u001b[0m \u001b[1;33m\u001b[0m\u001b[0m\n\u001b[0;32m     34\u001b[0m \u001b[0mabfCtrl\u001b[0m \u001b[1;33m=\u001b[0m \u001b[0mpyabf\u001b[0m\u001b[1;33m.\u001b[0m\u001b[0mABF\u001b[0m\u001b[1;33m(\u001b[0m\u001b[0mfilepath1\u001b[0m\u001b[1;33m)\u001b[0m\u001b[1;33m\u001b[0m\u001b[1;33m\u001b[0m\u001b[0m\n\u001b[1;32m---> 35\u001b[1;33m \u001b[0mabfDrug\u001b[0m \u001b[1;33m=\u001b[0m \u001b[0mpyabf\u001b[0m\u001b[1;33m.\u001b[0m\u001b[0mABF\u001b[0m\u001b[1;33m(\u001b[0m\u001b[0mfilepath2\u001b[0m\u001b[1;33m)\u001b[0m\u001b[1;33m\u001b[0m\u001b[1;33m\u001b[0m\u001b[0m\n\u001b[0m\u001b[0;32m     36\u001b[0m \u001b[0mabfCtrl\u001b[0m\u001b[1;33m.\u001b[0m\u001b[0msetSweep\u001b[0m\u001b[1;33m(\u001b[0m\u001b[1;36m5\u001b[0m\u001b[1;33m)\u001b[0m\u001b[1;33m\u001b[0m\u001b[1;33m\u001b[0m\u001b[0m\n\u001b[0;32m     37\u001b[0m \u001b[0mabfDrug\u001b[0m\u001b[1;33m.\u001b[0m\u001b[0msetSweep\u001b[0m\u001b[1;33m(\u001b[0m\u001b[1;36m5\u001b[0m\u001b[1;33m)\u001b[0m\u001b[1;33m\u001b[0m\u001b[1;33m\u001b[0m\u001b[0m\n",
      "\u001b[1;31mNameError\u001b[0m: name 'filepath2' is not defined"
     ]
    }
   ],
   "source": [
    "import matplotlib.pyplot as plt\n",
    "import matplotlib\n",
    "import pyabf\n",
    "import seaborn as sns\n",
    "from scipy.signal import find_peaks\n",
    "import numpy as np\n",
    "\n",
    "\n",
    "##vewhicle\n",
    "# filepath1 = r\"C:\\Users\\tsaim5\\ephys\\data\\09-22-29_VIP-cre_DREADD_h4mDi_Citrine_P60\\t01919b_VIP_0000_preCtrl.abf\"\n",
    "# filepath2 = r\"C:\\Users\\tsaim5\\ephys\\data\\09-22-29_VIP-cre_DREADD_h4mDi_Citrine_P60\\t01919b_VIP_0003.abf\"\n",
    "\n",
    "\n",
    "# filepath1 = r\"C:\\Users\\tsaim5\\ephys\\data\\09-22-29_VIP-cre_DREADD_h4mDi_Citrine_P60\\t01919c_VIP_0000.abf\"\n",
    "# filepath2 = r\"C:\\Users\\tsaim5\\ephys\\data\\09-22-29_VIP-cre_DREADD_h4mDi_Citrine_P60\\t01919c_VIP_0002.abf\"\n",
    "\n",
    "\n",
    "#filepath1 = r\"C:\\Users\\tsaim5\\ephys\\data\\09-22-29_VIP-cre_DREADD_h4mDi_Citrine_P60\\t01919f_VIP_0001.abf\"\n",
    "#filepath2 = r\"C:\\Users\\tsaim5\\ephys\\data\\09-22-29_VIP-cre_DREADD_h4mDi_Citrine_P60\\t01919f_VIP_0004.abf\"\n",
    "\n",
    "##CNO\n",
    "# filepath1 = r\"C:\\Users\\tsaim5\\ephys\\data\\09-22-29_VIP-cre_DREADD_h4mDi_Citrine_P60\\t01919a_VIP_0000_preCNO.abf\"\n",
    "# filepath2 = r\"C:\\Users\\tsaim5\\ephys\\data\\09-22-29_VIP-cre_DREADD_h4mDi_Citrine_P60\\t01919a_VIP_0002_postCNO.abf\"\n",
    "\n",
    "\n",
    "# filepath1 = r\"C:\\Users\\tsaim5\\ephys\\data\\09-22-29_VIP-cre_DREADD_h4mDi_Citrine_P60\\t01919d_VIP_0000_preCNO.abf\"\n",
    "# filepath2 = r\"C:\\Users\\tsaim5\\ephys\\data\\09-22-29_VIP-cre_DREADD_h4mDi_Citrine_P60\\t01919d_VIP_0002_postCNO.abf\"\n",
    "\n",
    "# filepath1 = r\"C:\\Users\\tsaim5\\ephys\\data\\09-22-29_VIP-cre_DREADD_h4mDi_Citrine_P60\\t01919e_VIP_0000_preCNO.abf\"\n",
    "# filepath2 = r\"C:\\Users\\tsaim5\\ephys\\data\\09-22-29_VIP-cre_DREADD_h4mDi_Citrine_P60\\t01919e_VIP_0002_postCNO.abf\"\n",
    "\n",
    "\n",
    "\n",
    "abfCtrl = pyabf.ABF(filepath1)\n",
    "abfDrug = pyabf.ABF(filepath2)\n",
    "abfCtrl.setSweep(5)\n",
    "abfDrug.setSweep(5)\n",
    "\n",
    "f, ax = plt.subplots(1,2,figsize = (8,4))\n",
    "ax[0].plot(abfCtrl.sweepX, abfCtrl.sweepY)\n",
    "ax[1].plot(abfDrug.sweepX, abfDrug.sweepY, color = 'red')\n",
    "\n",
    "plt.ylim((-80,50))\n",
    "plt.show()\n",
    "\n",
    "#/Volumes/brain_slice/Tsai/03-27-19_PV-cre-tdTOM-Cheata_P75/t032719d_PV_0001.abf\n",
    "#/Volumes/brain_slice/Tsai/04-15-19_PV-cre-tdTOM-GCaM6f_P52/t041519d_PV_0001.abf\n",
    "#/Volumes/brain_slice/Tsai/04-17-19_PV-cre-tdTOM-GCaM6f_P54/t041719d_PV_0001.abf\n",
    "#/Volumes/brain_slice/Tsai/04-18-19_PV-cre-tdTOM-GCaM6f_P55/t041819d_PV_0001.abf"
   ]
  },
  {
   "cell_type": "code",
   "execution_count": null,
   "metadata": {},
   "outputs": [],
   "source": [
    "Ctrl = []\n",
    "Drug = []\n",
    "for sweep in abfCtrl.sweepList:\n",
    "    abfCtrl.setSweep(sweep,channel=0)\n",
    "    Ctrl.append(abfCtrl.sweepY)\n",
    "Ctrl = np.stack(Ctrl)\n",
    "TimeCtrl = abfCtrl.sweepX\n",
    "\n",
    "for sweep in abfDrug.sweepList:\n",
    "    abfDrug.setSweep(sweep,channel=0)\n",
    "    Drug.append(abfDrug.sweepY)\n",
    "Drug = np.stack(Drug)\n",
    "TimeDrug = abfDrug.sweepX"
   ]
  },
  {
   "cell_type": "code",
   "execution_count": null,
   "metadata": {},
   "outputs": [],
   "source": [
    "#find spike method 2 -> better\n",
    "SpikesCtrl = []\n",
    "SpikesDrug = []\n",
    "\n",
    "for sweep in abfCtrl.sweepList:\n",
    "    abfCtrl.setSweep(sweep,channel=0)\n",
    "    peak_time, _ = find_peaks(abfCtrl.sweepY, height=-20)\n",
    "    SpikesCtrl.append(peak_time)    \n",
    "    \n",
    "\n",
    "for sweep in abfDrug.sweepList:\n",
    "    abfDrug.setSweep(sweep,channel=0)\n",
    "    peak_time, _ = find_peaks(abfDrug.sweepY, height=-0)\n",
    "    SpikesDrug.append(peak_time)\n",
    "       "
   ]
  },
  {
   "cell_type": "code",
   "execution_count": null,
   "metadata": {
    "scrolled": false
   },
   "outputs": [],
   "source": [
    "# rastor plot\n",
    "plt.subplot(1,2,1)\n",
    "plt.eventplot(SpikesCtrl[0:10])\n",
    "plt.ylim((0,10))\n",
    "#plt.ylim((0,len(abfCtrl.sweepList)))\n",
    "plt.xlim((0,5000))\n",
    "plt.title('before vehicle')\n",
    "\n",
    "plt.subplot(1,2,2)\n",
    "plt.eventplot(SpikesDrug[0:10], color ='red')\n",
    "plt.ylim((0,10))\n",
    "#plt.ylim((0,len(abfDrug.sweepList)))\n",
    "plt.xlim((0,5000))\n",
    "plt.title('after vehicle')\n",
    "\n",
    "\n",
    "\n",
    "plt.tight_layout()"
   ]
  },
  {
   "cell_type": "code",
   "execution_count": 2,
   "metadata": {},
   "outputs": [
    {
     "ename": "NameError",
     "evalue": "name 'abfDrug' is not defined",
     "output_type": "error",
     "traceback": [
      "\u001b[1;31m---------------------------------------------------------------------------\u001b[0m",
      "\u001b[1;31mNameError\u001b[0m                                 Traceback (most recent call last)",
      "\u001b[1;32m<ipython-input-2-186337b7bacd>\u001b[0m in \u001b[0;36m<module>\u001b[1;34m\u001b[0m\n\u001b[1;32m----> 1\u001b[1;33m \u001b[0mabfDrug\u001b[0m\u001b[1;33m.\u001b[0m\u001b[0msweepList\u001b[0m\u001b[1;33m\u001b[0m\u001b[1;33m\u001b[0m\u001b[0m\n\u001b[0m",
      "\u001b[1;31mNameError\u001b[0m: name 'abfDrug' is not defined"
     ]
    }
   ],
   "source": [
    "abfDrug.sweepList"
   ]
  },
  {
   "cell_type": "code",
   "execution_count": 3,
   "metadata": {
    "scrolled": true
   },
   "outputs": [
    {
     "ename": "NameError",
     "evalue": "name 'TimeCtrl' is not defined",
     "output_type": "error",
     "traceback": [
      "\u001b[1;31m---------------------------------------------------------------------------\u001b[0m",
      "\u001b[1;31mNameError\u001b[0m                                 Traceback (most recent call last)",
      "\u001b[1;32m<ipython-input-3-4bba5f790b6a>\u001b[0m in \u001b[0;36m<module>\u001b[1;34m\u001b[0m\n\u001b[0;32m      4\u001b[0m \u001b[0mplt\u001b[0m\u001b[1;33m.\u001b[0m\u001b[0mfigure\u001b[0m\u001b[1;33m(\u001b[0m\u001b[0mfigsize\u001b[0m\u001b[1;33m=\u001b[0m\u001b[1;33m(\u001b[0m\u001b[1;36m8\u001b[0m\u001b[1;33m,\u001b[0m\u001b[1;36m8\u001b[0m\u001b[1;33m)\u001b[0m\u001b[1;33m)\u001b[0m\u001b[1;33m\u001b[0m\u001b[1;33m\u001b[0m\u001b[0m\n\u001b[0;32m      5\u001b[0m \u001b[0mplt\u001b[0m\u001b[1;33m.\u001b[0m\u001b[0msubplot\u001b[0m\u001b[1;33m(\u001b[0m\u001b[1;36m2\u001b[0m\u001b[1;33m,\u001b[0m\u001b[1;36m1\u001b[0m\u001b[1;33m,\u001b[0m\u001b[1;36m1\u001b[0m\u001b[1;33m)\u001b[0m\u001b[1;33m\u001b[0m\u001b[1;33m\u001b[0m\u001b[0m\n\u001b[1;32m----> 6\u001b[1;33m \u001b[0mplt\u001b[0m\u001b[1;33m.\u001b[0m\u001b[0mplot\u001b[0m\u001b[1;33m(\u001b[0m\u001b[0mTimeCtrl\u001b[0m\u001b[1;33m,\u001b[0m\u001b[0mCtrl\u001b[0m\u001b[1;33m[\u001b[0m\u001b[0msweep1\u001b[0m\u001b[1;33m]\u001b[0m\u001b[1;33m)\u001b[0m\u001b[1;33m\u001b[0m\u001b[1;33m\u001b[0m\u001b[0m\n\u001b[0m\u001b[0;32m      7\u001b[0m \u001b[0mplt\u001b[0m\u001b[1;33m.\u001b[0m\u001b[0mplot\u001b[0m\u001b[1;33m(\u001b[0m\u001b[0mSpikesCtrl\u001b[0m\u001b[1;33m[\u001b[0m\u001b[0msweep1\u001b[0m\u001b[1;33m]\u001b[0m\u001b[1;33m/\u001b[0m\u001b[1;36m10000\u001b[0m\u001b[1;33m,\u001b[0m \u001b[0mCtrl\u001b[0m\u001b[1;33m[\u001b[0m\u001b[0msweep1\u001b[0m\u001b[1;33m,\u001b[0m\u001b[0mSpikesCtrl\u001b[0m\u001b[1;33m[\u001b[0m\u001b[0msweep1\u001b[0m\u001b[1;33m]\u001b[0m\u001b[1;33m]\u001b[0m\u001b[1;33m*\u001b[0m\u001b[1;36m1.5\u001b[0m\u001b[1;33m,\u001b[0m \u001b[1;34m\"x\"\u001b[0m\u001b[1;33m,\u001b[0m \u001b[0mcolor\u001b[0m \u001b[1;33m=\u001b[0m\u001b[1;34m'#1f77b4'\u001b[0m\u001b[1;33m)\u001b[0m\u001b[1;33m\u001b[0m\u001b[1;33m\u001b[0m\u001b[0m\n\u001b[0;32m      8\u001b[0m \u001b[0mplt\u001b[0m\u001b[1;33m.\u001b[0m\u001b[0mplot\u001b[0m\u001b[1;33m(\u001b[0m\u001b[0mTimeCtrl\u001b[0m\u001b[1;33m,\u001b[0m\u001b[0mCtrl\u001b[0m\u001b[1;33m[\u001b[0m\u001b[0msweep2\u001b[0m\u001b[1;33m]\u001b[0m\u001b[1;33m,\u001b[0m \u001b[1;34m'red'\u001b[0m\u001b[1;33m)\u001b[0m\u001b[1;33m\u001b[0m\u001b[1;33m\u001b[0m\u001b[0m\n",
      "\u001b[1;31mNameError\u001b[0m: name 'TimeCtrl' is not defined"
     ]
    },
    {
     "data": {
      "image/png": "[encoded data removed]",
      "text/plain": [
       "<Figure size 576x576 with 1 Axes>"
      ]
     },
     "metadata": {
      "needs_background": "light"
     },
     "output_type": "display_data"
    }
   ],
   "source": [
    "sweep1 =3\n",
    "sweep2 =7\n",
    "\n",
    "plt.figure(figsize=(8,8))\n",
    "plt.subplot(2,1,1)\n",
    "plt.plot(TimeCtrl,Ctrl[sweep1])\n",
    "plt.plot(SpikesCtrl[sweep1]/10000, Ctrl[sweep1,SpikesCtrl[sweep1]]*1.5, \"x\", color ='#1f77b4')\n",
    "plt.plot(TimeCtrl,Ctrl[sweep2], 'red')\n",
    "plt.plot(SpikesCtrl[sweep2]/10000, Ctrl[sweep2,SpikesCtrl[sweep2]]*1.5, \"x\", color ='red')\n",
    "plt.ylabel(\"voltage (mV)\")\n",
    "plt.xlabel(\"Time (sec)\")\n",
    "\n",
    "plt.subplot(2,1,2)\n",
    "plt.plot(TimeDrug,Drug[sweep1])\n",
    "plt.plot(SpikesDrug[sweep1]/10000, Drug[sweep1,SpikesDrug[sweep1]]*1.5, \"x\", color ='#1f77b4')\n",
    "plt.plot(TimeDrug,Drug[sweep2], 'red')\n",
    "plt.plot(SpikesDrug[sweep2]/10000, Drug[sweep2,SpikesDrug[sweep2]]*1.5, \"x\", color ='red')\n",
    "\n",
    "plt.ylabel(\"voltage (mV)\")\n",
    "plt.xlabel(\"Time (sec)\")\n",
    "\n",
    "# plt.subplot(3,1,3)\n",
    "# plt.plot(TimeCtrl, abfDrug.sweepC, color='r')\n",
    "#plt.plot(abfDrug.sweepX[8], abfDrug.sweepC[8], color='r')\n",
    "\n",
    "#plt.tight_layout()\n",
    "\n"
   ]
  },
  {
   "cell_type": "code",
   "execution_count": 4,
   "metadata": {},
   "outputs": [
    {
     "ename": "NameError",
     "evalue": "name 'SpikesCtrl' is not defined",
     "output_type": "error",
     "traceback": [
      "\u001b[1;31m---------------------------------------------------------------------------\u001b[0m",
      "\u001b[1;31mNameError\u001b[0m                                 Traceback (most recent call last)",
      "\u001b[1;32m<ipython-input-4-528a7870ebe0>\u001b[0m in \u001b[0;36m<module>\u001b[1;34m\u001b[0m\n\u001b[0;32m      4\u001b[0m \u001b[1;33m\u001b[0m\u001b[0m\n\u001b[0;32m      5\u001b[0m \u001b[1;32mfor\u001b[0m \u001b[0mi\u001b[0m \u001b[1;32min\u001b[0m \u001b[0mabfCtrl\u001b[0m\u001b[1;33m.\u001b[0m\u001b[0msweepList\u001b[0m\u001b[1;33m:\u001b[0m\u001b[1;33m\u001b[0m\u001b[1;33m\u001b[0m\u001b[0m\n\u001b[1;32m----> 6\u001b[1;33m     \u001b[0mspkn\u001b[0m \u001b[1;33m=\u001b[0m \u001b[0mlen\u001b[0m\u001b[1;33m(\u001b[0m\u001b[0mSpikesCtrl\u001b[0m\u001b[1;33m[\u001b[0m\u001b[0mi\u001b[0m\u001b[1;33m]\u001b[0m\u001b[1;33m)\u001b[0m\u001b[1;33m\u001b[0m\u001b[1;33m\u001b[0m\u001b[0m\n\u001b[0m\u001b[0;32m      7\u001b[0m     \u001b[0mSpikeNumberCtrl\u001b[0m\u001b[1;33m.\u001b[0m\u001b[0mappend\u001b[0m\u001b[1;33m(\u001b[0m\u001b[0mspkn\u001b[0m\u001b[1;33m*\u001b[0m\u001b[1;36m3.3\u001b[0m\u001b[1;33m)\u001b[0m \u001b[1;31m# 3.3 is the number to convert spike number to rate (# of spikes/300ms current injection)\u001b[0m\u001b[1;33m\u001b[0m\u001b[1;33m\u001b[0m\u001b[0m\n\u001b[0;32m      8\u001b[0m \u001b[1;33m\u001b[0m\u001b[0m\n",
      "\u001b[1;31mNameError\u001b[0m: name 'SpikesCtrl' is not defined"
     ]
    }
   ],
   "source": [
    "# allocate numbers of spikes in each sweep\n",
    "SpikeNumberCtrl = []\n",
    "SpikeNumberDrug = []\n",
    "\n",
    "for i in abfCtrl.sweepList:\n",
    "    spkn = len(SpikesCtrl[i])\n",
    "    SpikeNumberCtrl.append(spkn*3.3) # 3.3 is the number to convert spike number to rate (# of spikes/300ms current injection) \n",
    "\n",
    "for i in abfDrug.sweepList:\n",
    "    spkn = len(SpikesDrug[i])\n",
    "    SpikeNumberDrug.append(spkn*3.3)\n"
   ]
  },
  {
   "cell_type": "code",
   "execution_count": 5,
   "metadata": {
    "scrolled": true
   },
   "outputs": [
    {
     "ename": "ValueError",
     "evalue": "x and y must be the same size",
     "output_type": "error",
     "traceback": [
      "\u001b[1;31m---------------------------------------------------------------------------\u001b[0m",
      "\u001b[1;31mValueError\u001b[0m                                Traceback (most recent call last)",
      "\u001b[1;32m<ipython-input-5-348acf7f6842>\u001b[0m in \u001b[0;36m<module>\u001b[1;34m\u001b[0m\n\u001b[0;32m      1\u001b[0m \u001b[1;31m## input-output plot\u001b[0m\u001b[1;33m\u001b[0m\u001b[1;33m\u001b[0m\u001b[1;33m\u001b[0m\u001b[0m\n\u001b[0;32m      2\u001b[0m \u001b[0minjection\u001b[0m \u001b[1;33m=\u001b[0m \u001b[0mnp\u001b[0m\u001b[1;33m.\u001b[0m\u001b[0mlinspace\u001b[0m\u001b[1;33m(\u001b[0m\u001b[1;33m-\u001b[0m\u001b[1;36m1\u001b[0m\u001b[1;33m,\u001b[0m \u001b[1;36m13\u001b[0m\u001b[1;33m,\u001b[0m \u001b[1;36m15\u001b[0m\u001b[1;33m)\u001b[0m\u001b[1;33m\u001b[0m\u001b[1;33m\u001b[0m\u001b[0m\n\u001b[1;32m----> 3\u001b[1;33m \u001b[0mplt\u001b[0m\u001b[1;33m.\u001b[0m\u001b[0mscatter\u001b[0m\u001b[1;33m(\u001b[0m\u001b[0minjection\u001b[0m\u001b[1;33m[\u001b[0m\u001b[1;36m0\u001b[0m\u001b[1;33m:\u001b[0m\u001b[1;36m8\u001b[0m\u001b[1;33m]\u001b[0m\u001b[1;33m,\u001b[0m\u001b[0mSpikeNumberCtrl\u001b[0m\u001b[1;33m[\u001b[0m\u001b[1;36m0\u001b[0m\u001b[1;33m:\u001b[0m\u001b[1;36m8\u001b[0m\u001b[1;33m]\u001b[0m\u001b[1;33m,\u001b[0m \u001b[0mlabel\u001b[0m \u001b[1;33m=\u001b[0m \u001b[1;34m'before vehicle'\u001b[0m\u001b[1;33m)\u001b[0m\u001b[1;33m\u001b[0m\u001b[1;33m\u001b[0m\u001b[0m\n\u001b[0m\u001b[0;32m      4\u001b[0m \u001b[0mplt\u001b[0m\u001b[1;33m.\u001b[0m\u001b[0mscatter\u001b[0m\u001b[1;33m(\u001b[0m\u001b[0minjection\u001b[0m\u001b[1;33m[\u001b[0m\u001b[1;36m0\u001b[0m\u001b[1;33m:\u001b[0m\u001b[1;36m8\u001b[0m\u001b[1;33m]\u001b[0m\u001b[1;33m,\u001b[0m\u001b[0mSpikeNumberDrug\u001b[0m\u001b[1;33m[\u001b[0m\u001b[1;36m0\u001b[0m\u001b[1;33m:\u001b[0m\u001b[1;36m8\u001b[0m\u001b[1;33m]\u001b[0m\u001b[1;33m,\u001b[0m \u001b[0mlabel\u001b[0m \u001b[1;33m=\u001b[0m \u001b[1;34m'after vehicle'\u001b[0m\u001b[1;33m)\u001b[0m\u001b[1;33m\u001b[0m\u001b[1;33m\u001b[0m\u001b[0m\n\u001b[0;32m      5\u001b[0m \u001b[1;33m\u001b[0m\u001b[0m\n",
      "\u001b[1;32m~\\AppData\\Local\\Continuum\\anaconda3\\envs\\Ephys\\lib\\site-packages\\matplotlib\\pyplot.py\u001b[0m in \u001b[0;36mscatter\u001b[1;34m(x, y, s, c, marker, cmap, norm, vmin, vmax, alpha, linewidths, verts, edgecolors, plotnonfinite, data, **kwargs)\u001b[0m\n\u001b[0;32m   2845\u001b[0m         \u001b[0mverts\u001b[0m\u001b[1;33m=\u001b[0m\u001b[0mverts\u001b[0m\u001b[1;33m,\u001b[0m \u001b[0medgecolors\u001b[0m\u001b[1;33m=\u001b[0m\u001b[0medgecolors\u001b[0m\u001b[1;33m,\u001b[0m\u001b[1;33m\u001b[0m\u001b[1;33m\u001b[0m\u001b[0m\n\u001b[0;32m   2846\u001b[0m         plotnonfinite=plotnonfinite, **({\"data\": data} if data is not\n\u001b[1;32m-> 2847\u001b[1;33m         None else {}), **kwargs)\n\u001b[0m\u001b[0;32m   2848\u001b[0m     \u001b[0msci\u001b[0m\u001b[1;33m(\u001b[0m\u001b[0m__ret\u001b[0m\u001b[1;33m)\u001b[0m\u001b[1;33m\u001b[0m\u001b[1;33m\u001b[0m\u001b[0m\n\u001b[0;32m   2849\u001b[0m     \u001b[1;32mreturn\u001b[0m \u001b[0m__ret\u001b[0m\u001b[1;33m\u001b[0m\u001b[1;33m\u001b[0m\u001b[0m\n",
      "\u001b[1;32m~\\AppData\\Local\\Continuum\\anaconda3\\envs\\Ephys\\lib\\site-packages\\matplotlib\\__init__.py\u001b[0m in \u001b[0;36minner\u001b[1;34m(ax, data, *args, **kwargs)\u001b[0m\n\u001b[0;32m   1599\u001b[0m     \u001b[1;32mdef\u001b[0m \u001b[0minner\u001b[0m\u001b[1;33m(\u001b[0m\u001b[0max\u001b[0m\u001b[1;33m,\u001b[0m \u001b[1;33m*\u001b[0m\u001b[0margs\u001b[0m\u001b[1;33m,\u001b[0m \u001b[0mdata\u001b[0m\u001b[1;33m=\u001b[0m\u001b[1;32mNone\u001b[0m\u001b[1;33m,\u001b[0m \u001b[1;33m**\u001b[0m\u001b[0mkwargs\u001b[0m\u001b[1;33m)\u001b[0m\u001b[1;33m:\u001b[0m\u001b[1;33m\u001b[0m\u001b[1;33m\u001b[0m\u001b[0m\n\u001b[0;32m   1600\u001b[0m         \u001b[1;32mif\u001b[0m \u001b[0mdata\u001b[0m \u001b[1;32mis\u001b[0m \u001b[1;32mNone\u001b[0m\u001b[1;33m:\u001b[0m\u001b[1;33m\u001b[0m\u001b[1;33m\u001b[0m\u001b[0m\n\u001b[1;32m-> 1601\u001b[1;33m             \u001b[1;32mreturn\u001b[0m \u001b[0mfunc\u001b[0m\u001b[1;33m(\u001b[0m\u001b[0max\u001b[0m\u001b[1;33m,\u001b[0m \u001b[1;33m*\u001b[0m\u001b[0mmap\u001b[0m\u001b[1;33m(\u001b[0m\u001b[0msanitize_sequence\u001b[0m\u001b[1;33m,\u001b[0m \u001b[0margs\u001b[0m\u001b[1;33m)\u001b[0m\u001b[1;33m,\u001b[0m \u001b[1;33m**\u001b[0m\u001b[0mkwargs\u001b[0m\u001b[1;33m)\u001b[0m\u001b[1;33m\u001b[0m\u001b[1;33m\u001b[0m\u001b[0m\n\u001b[0m\u001b[0;32m   1602\u001b[0m \u001b[1;33m\u001b[0m\u001b[0m\n\u001b[0;32m   1603\u001b[0m         \u001b[0mbound\u001b[0m \u001b[1;33m=\u001b[0m \u001b[0mnew_sig\u001b[0m\u001b[1;33m.\u001b[0m\u001b[0mbind\u001b[0m\u001b[1;33m(\u001b[0m\u001b[0max\u001b[0m\u001b[1;33m,\u001b[0m \u001b[1;33m*\u001b[0m\u001b[0margs\u001b[0m\u001b[1;33m,\u001b[0m \u001b[1;33m**\u001b[0m\u001b[0mkwargs\u001b[0m\u001b[1;33m)\u001b[0m\u001b[1;33m\u001b[0m\u001b[1;33m\u001b[0m\u001b[0m\n",
      "\u001b[1;32m~\\AppData\\Local\\Continuum\\anaconda3\\envs\\Ephys\\lib\\site-packages\\matplotlib\\axes\\_axes.py\u001b[0m in \u001b[0;36mscatter\u001b[1;34m(self, x, y, s, c, marker, cmap, norm, vmin, vmax, alpha, linewidths, verts, edgecolors, plotnonfinite, **kwargs)\u001b[0m\n\u001b[0;32m   4442\u001b[0m         \u001b[0my\u001b[0m \u001b[1;33m=\u001b[0m \u001b[0mnp\u001b[0m\u001b[1;33m.\u001b[0m\u001b[0mma\u001b[0m\u001b[1;33m.\u001b[0m\u001b[0mravel\u001b[0m\u001b[1;33m(\u001b[0m\u001b[0my\u001b[0m\u001b[1;33m)\u001b[0m\u001b[1;33m\u001b[0m\u001b[1;33m\u001b[0m\u001b[0m\n\u001b[0;32m   4443\u001b[0m         \u001b[1;32mif\u001b[0m \u001b[0mx\u001b[0m\u001b[1;33m.\u001b[0m\u001b[0msize\u001b[0m \u001b[1;33m!=\u001b[0m \u001b[0my\u001b[0m\u001b[1;33m.\u001b[0m\u001b[0msize\u001b[0m\u001b[1;33m:\u001b[0m\u001b[1;33m\u001b[0m\u001b[1;33m\u001b[0m\u001b[0m\n\u001b[1;32m-> 4444\u001b[1;33m             \u001b[1;32mraise\u001b[0m \u001b[0mValueError\u001b[0m\u001b[1;33m(\u001b[0m\u001b[1;34m\"x and y must be the same size\"\u001b[0m\u001b[1;33m)\u001b[0m\u001b[1;33m\u001b[0m\u001b[1;33m\u001b[0m\u001b[0m\n\u001b[0m\u001b[0;32m   4445\u001b[0m \u001b[1;33m\u001b[0m\u001b[0m\n\u001b[0;32m   4446\u001b[0m         \u001b[1;32mif\u001b[0m \u001b[0ms\u001b[0m \u001b[1;32mis\u001b[0m \u001b[1;32mNone\u001b[0m\u001b[1;33m:\u001b[0m\u001b[1;33m\u001b[0m\u001b[1;33m\u001b[0m\u001b[0m\n",
      "\u001b[1;31mValueError\u001b[0m: x and y must be the same size"
     ]
    },
    {
     "data": {
      "image/png": "[encoded data removed]",
      "text/plain": [
       "<Figure size 432x288 with 1 Axes>"
      ]
     },
     "metadata": {
      "needs_background": "light"
     },
     "output_type": "display_data"
    }
   ],
   "source": [
    "## input-output plot\n",
    "injection = np.linspace(-1, 13, 15)\n",
    "plt.scatter(injection[0:8],SpikeNumberCtrl[0:8], label = 'before vehicle')\n",
    "plt.scatter(injection[0:8],SpikeNumberDrug[0:8], label = 'after vehicle')\n",
    "\n",
    "plt.xlim(-2,8)\n",
    "plt.legend( loc='upper left')\n",
    "plt.xlabel('fold current injection')\n",
    "plt.ylabel('firing rate (Hz)') "
   ]
  },
  {
   "cell_type": "code",
   "execution_count": null,
   "metadata": {},
   "outputs": [],
   "source": []
  }
 ],
 "metadata": {
  "kernelspec": {
   "display_name": "Python 3",
   "language": "python",
   "name": "python3"
  },
  "language_info": {
   "codemirror_mode": {
    "name": "ipython",
    "version": 3
   },
   "file_extension": ".py",
   "mimetype": "text/x-python",
   "name": "python",
   "nbconvert_exporter": "python",
   "pygments_lexer": "ipython3",
   "version": "3.7.4"
  }
 },
 "nbformat": 4,
 "nbformat_minor": 2
}
