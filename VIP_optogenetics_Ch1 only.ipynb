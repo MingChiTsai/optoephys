{
 "cells": [
  {
   "cell_type": "code",
   "execution_count": 1,
   "metadata": {
    "scrolled": true
   },
   "outputs": [
    {
     "data": {
      "text/plain": [
       "<Figure size 640x480 with 1 Axes>"
      ]
     },
     "metadata": {},
     "output_type": "display_data"
    }
   ],
   "source": [
    "import matplotlib.pyplot as plt\n",
    "import pyabf\n",
    "#import seaborn as sns\n",
    "from scipy.signal import find_peaks\n",
    "import numpy as np\n",
    "filepath = r'\\Users\\tsaim5\\Desktop\\10-08-19_VIP-cre_ChEATA_stCROME_P29\\t100819bVIP_0001.abf'\n",
    "abf = pyabf.ABF(filepath)\n",
    "abf.setSweep(5)\n",
    "plt.plot(abf.sweepX, abf.sweepY)\n",
    "plt.show()"
   ]
  },
  {
   "cell_type": "code",
   "execution_count": 2,
   "metadata": {
    "scrolled": true
   },
   "outputs": [
    {
     "name": "stdout",
     "output_type": "stream",
     "text": [
      "ABF (version 2.5.0.0) with 1 channel (mV), sampled at 10.0 kHz, containing 30 sweeps, having no tags, with a total length of 2.51 minutes, recorded with protocol \"Optogenetic stim_ch1_deltaT\".\n"
     ]
    }
   ],
   "source": [
    "print(abf)"
   ]
  },
  {
   "cell_type": "code",
   "execution_count": 3,
   "metadata": {},
   "outputs": [
    {
     "name": "stdout",
     "output_type": "stream",
     "text": [
      "\n",
      "### ABF Class Methods ###\n",
      "abf.launchInClampFit()\n",
      "abf.saveABF1()\n",
      "abf.setSweep()\n",
      "abf.sweepD()\n",
      "\n",
      "### ABF Class Variables ###\n",
      "abfDateTime = 2019-10-08 18:03:25.807000\n",
      "abfDateTimeString = 2019-10-08T18:03:25.807\n",
      "abfFileComment =\n",
      "abfFilePath = C:\\Users\\tsaim5\\Desktop\\10-08-19_VIP-cre_ChEATA_stCROME_P29\\t100819bVIP_0001.abf\n",
      "abfID = t100819bVIP_0001\n",
      "abfVersion = {'major': 2, 'minor': 5, 'bugfix': 0, 'build': 0}\n",
      "abfVersionString = 2.5.0.0\n",
      "adcNames = ['IN 0']\n",
      "adcUnits = ['mV']\n",
      "channelCount = 1\n",
      "channelList = [0]\n",
      "creatorVersion = {'major': 10, 'minor': 5, 'bugfix': 2, 'build': 6}\n",
      "creatorVersionString = 10.5.2.6\n",
      "dacNames = ['Cmd 0']\n",
      "dacUnits = ['pA']\n",
      "data = [[-66.7725 -66.7419 -66.7725 ... -69.3054 -69.3359 -69.3054]]\n",
      "dataByteStart = 7168\n",
      "dataLengthMin = 2.5083333333333333\n",
      "dataLengthSec = 150.5\n",
      "dataPointByteSize = 2\n",
      "dataPointCount = 150000\n",
      "dataPointsPerMs = 10\n",
      "dataRate = 10000\n",
      "dataSecPerPoint = 0.0001\n",
      "fileGUID = {6B6644B2-ECC7-4D9F-9F96-F8491C47C0C0}\n",
      "holdingCommand = [0.0, 0.0, 0.0, 0.0, 0.0, 0.0, 0.0, 0.0]\n",
      "protocol = Optogenetic stim_ch1_deltaT\n",
      "protocolPath = C:\\Users\\Administrator\\Documents\\Molecular Devices\\pCLAMP\\Params\\Ming-Chi\\Optogenetic stim_ch1_deltaT.pro\n",
      "stimulusByChannel = [Stimulus(abf, 0)]\n",
      "stimulusFileFolder = C:/some/alternate/path\n",
      "sweepC = [0. 0. 0. ... 0. 0. 0.]\n",
      "sweepChannel = 0\n",
      "sweepCount = 30\n",
      "sweepEpochs = Sweep epoch waveform: Step 0.00 [0:78], Step 0.00 [78:1078], Step 0.00 [1078:1098], Step 0.00 [1098:1108], Step 0.00 [1108:1128], Step 0.00 [1128:5000]\n",
      "sweepIntervalSec = 5.0\n",
      "sweepLabelC = Applied Current (pA)\n",
      "sweepLabelX = time (seconds)\n",
      "sweepLabelY = Membrane Potential (mV)\n",
      "sweepLengthSec = 0.5\n",
      "sweepList = [0, 1, 2, 3, 4, 5, 6, 7, 8, 9, 10, 11, 12, 13, 14, 15, 16, 17, 18, 19, 20, 21, 22, 23, 24, 25, 26, 27, 28, 29]\n",
      "sweepNumber = 5\n",
      "sweepPointCount = 5000\n",
      "sweepTimesMin = [0.     0.0833 0.1667 ... 2.25   2.3333 2.4167]\n",
      "sweepTimesSec = [  0.   5.  10. ... 135. 140. 145.]\n",
      "sweepUnitsC = pA\n",
      "sweepUnitsX = sec\n",
      "sweepUnitsY = mV\n",
      "sweepX = [0.     0.0001 0.0002 ... 0.4997 0.4998 0.4999]\n",
      "sweepY = [-66.803  -66.7419 -66.7725 ... -66.9556 -66.9556 -66.9861]\n",
      "tagComments = []\n",
      "tagSweeps = []\n",
      "tagTimesMin = []\n",
      "tagTimesSec = []\n",
      "\n",
      "### Epochs for Channel 0 ###\n",
      "EPOCH         A         B         C         D\n",
      "Type      Step      Step      Step      Step\n",
      "First Level      0.00      0.00      0.00      0.00\n",
      "Delta Level      0.00      0.00      0.00      0.00\n",
      "First Duration (points)      1000        20        10        20\n",
      "Delta Duration (points)         0         0         0         0\n",
      "Digital Pattern #3-0      0000      0100      0000      0100\n",
      "Digital Pattern #7-4      0000      0000      0000      0000\n",
      "Train Period (points)         0         0         0         0\n",
      "Pulse Width (points)         0         0         0         0\n",
      "\n",
      "### ABF2 Header ###\n",
      "\n",
      "~~~\n",
      "The first several bytes of an ABF2 file contain variables\n",
      "located at specific byte positions from the start of the file.\n",
      "~~~\n",
      "abfDateTime = 2019-10-08 18:03:25.807000\n",
      "abfDateTimeString = 2019-10-08T18:03:25.807\n",
      "abfVersionDict = {'major': 2, 'minor': 5, 'bugfix': 0, 'build': 0}\n",
      "abfVersionFloat = 2.5\n",
      "abfVersionString = 2.5.0.0\n",
      "creatorVersionDict = {'major': 10, 'minor': 5, 'bugfix': 2, 'build': 6}\n",
      "creatorVersionFloat = 10.526\n",
      "creatorVersionString = 10.5.2.6\n",
      "fFileSignature = ABF2\n",
      "fFileVersionNumber = [0, 0, 5, 2]\n",
      "lActualEpisodes = 30\n",
      "nCRCEnable = 0\n",
      "nDataFormat = 0\n",
      "nFileType = 1\n",
      "nSimultaneousScan = 1\n",
      "sFileGUID = {6B6644B2-ECC7-4D9F-9F96-F8491C47C0C0}\n",
      "uCreatorNameIndex = 1\n",
      "uCreatorVersion = [6, 2, 5, 10]\n",
      "uFileCRC = 0\n",
      "uFileGUID = [178, 68, 102, 107, 199, 236, 159, 77, 159, 150, 248, 73, 28, 71, 250, 192]\n",
      "uFileInfoSize = 512\n",
      "uFileStartDate = 20191008\n",
      "uFileStartTimeMS = 65005807\n",
      "uModifierNameIndex = 0\n",
      "uModifierVersion = 0\n",
      "uProtocolPathIndex = 2\n",
      "uStopwatchTime = 4501\n",
      "\n",
      "### SectionMap ###\n",
      "\n",
      "~~~\n",
      "Reading three numbers (int, int, long) at specific byte locations\n",
      "yields the block position, byte size, and item count of specific\n",
      "data stored in sections. Note that a block is 512 bytes. Some of\n",
      "these sections are not read by this class because they are either\n",
      "not useful for my applications, typically unused, or have an\n",
      "unknown memory structure.\n",
      "~~~\n",
      "ADCPerDACSection = [0, 0, 0]\n",
      "ADCSection = [2, 128, 1]\n",
      "AnnotationSection = [0, 0, 0]\n",
      "DACSection = [3, 256, 8]\n",
      "DataSection = [14, 2, 150000]\n",
      "DeltaSection = [0, 0, 0]\n",
      "EpochPerDACSection = [7, 48, 4]\n",
      "EpochSection = [8, 32, 4]\n",
      "MathSection = [0, 0, 0]\n",
      "ProtocolSection = [1, 512, 1]\n",
      "ScopeSection = [12, 769, 1]\n",
      "StatsRegionSection = [9, 128, 1]\n",
      "StatsSection = [0, 0, 0]\n",
      "StringsSection = [11, 264, 21]\n",
      "SynchArraySection = [600, 8, 30]\n",
      "TagSection = [0, 0, 0]\n",
      "UserListSection = [10, 64, 1]\n",
      "VoiceTagSection = [0, 0, 0]\n",
      "\n",
      "### ProtocolSection ###\n",
      "\n",
      "~~~\n",
      "This section contains information about the recording settings.\n",
      "This is useful for determining things like sample rate and\n",
      "channel scaling factors.\n",
      "~~~\n",
      "bEnableFileCompression = 0\n",
      "fADCRange = 10.0\n",
      "fADCSequenceInterval = 100.0\n",
      "fAverageWeighting = 0.10000000149011612\n",
      "fCellID = [0.0, 0.0, 0.0]\n",
      "fDACRange = 10.0\n",
      "fEpisodeStartToStart = 5.0\n",
      "fFirstRunDelayS = 0.0\n",
      "fRunStartToStart = 0.0\n",
      "fScopeOutputInterval = 0.0\n",
      "fSecondsPerRun = 10.0\n",
      "fStatisticsPeriod = 1.0\n",
      "fSynchTimeUnit = 20.0\n",
      "fTrialStartToStart = 0.0\n",
      "fTriggerThreshold = 0.0\n",
      "lADCResolution = 32768\n",
      "lAverageCount = 1\n",
      "lDACResolution = 32768\n",
      "lEpisodesPerRun = 30\n",
      "lFileCommentIndex = 0\n",
      "lFinishDisplayNum = 5000\n",
      "lNumSamplesPerEpisode = 5000\n",
      "lNumberOfTrials = 1\n",
      "lPreTriggerSamples = 20\n",
      "lRunsPerTrial = 1\n",
      "lSamplesPerTrace = 16384\n",
      "lStartDisplayNum = 0\n",
      "lStatisticsMeasurements = 5\n",
      "lTimeHysteresis = 1\n",
      "nActiveDACChannel = 0\n",
      "nAllowExternalTags = 0\n",
      "nAlternateDACOutputState = 0\n",
      "nAlternateDigitalOutputState = 0\n",
      "nAutoAnalyseEnable = 1\n",
      "nAutoTriggerStrategy = 1\n",
      "nAverageAlgorithm = 0\n",
      "nAveragingMode = 0\n",
      "nChannelStatsStrategy = 0\n",
      "nCommentsEnable = 0\n",
      "nDigitalDACChannel = 0\n",
      "nDigitalEnable = 1\n",
      "nDigitalHolding = 0\n",
      "nDigitalInterEpisode = 0\n",
      "nDigitalTrainActiveLogic = 1\n",
      "nDigitizerADCs = 16\n",
      "nDigitizerDACs = 4\n",
      "nDigitizerSynchDigitalOuts = 8\n",
      "nDigitizerTotalDigitalOuts = 16\n",
      "nDigitizerType = 6\n",
      "nExperimentType = 2\n",
      "nExternalTagType = 2\n",
      "nFirstEpisodeInRun = 0\n",
      "nLTPType = 0\n",
      "nLevelHysteresis = 64\n",
      "nManualInfoStrategy = 0\n",
      "nOperationMode = 5\n",
      "nScopeTriggerOut = 0\n",
      "nShowPNRawData = 0\n",
      "nSignalType = 0\n",
      "nStatisticsClearStrategy = 0\n",
      "nStatisticsDisplayStrategy = 0\n",
      "nStatisticsSaveStrategy = 0\n",
      "nStatsEnable = 0\n",
      "nTrialTriggerSource = -1\n",
      "nTriggerAction = 0\n",
      "nTriggerPolarity = 0\n",
      "nTriggerSource = -3\n",
      "nUndoPromptStrategy = 0\n",
      "nUndoRunCount = 0\n",
      "sDigitizerType = Digidata 1440\n",
      "sUnused = ['\\x00', '\\x00', '\\x00']\n",
      "uFileCompressionRatio = 1\n",
      "\n",
      "### ADCSection ###\n",
      "\n",
      "~~~\n",
      "Information about the ADC (what gets recorded).\n",
      "There is 1 item per ADC.\n",
      "~~~\n",
      "bEnabledDuringPN = [0]\n",
      "fADCDisplayAmplification = [12.048008918762207]\n",
      "fADCDisplayOffset = [-63.0]\n",
      "fADCProgrammableGain = [1.0]\n",
      "fInstrumentOffset = [0.0]\n",
      "fInstrumentScaleFactor = [0.009999999776482582]\n",
      "fPostProcessLowpassFilter = [100000.0]\n",
      "fSignalGain = [1.0]\n",
      "fSignalHighpassFilter = [1.0]\n",
      "fSignalLowpassFilter = [10000.0]\n",
      "fSignalOffset = [0.0]\n",
      "fTelegraphAccessResistance = [0.0]\n",
      "fTelegraphAdditGain = [1.0]\n",
      "fTelegraphFilter = [10000.0]\n",
      "fTelegraphMembraneCap = [0.0]\n",
      "lADCChannelNameIndex = [3]\n",
      "lADCUnitsIndex = [4]\n",
      "nADCNum = [0]\n",
      "nADCPtoLChannelMap = [0]\n",
      "nADCSamplingSeq = [0]\n",
      "nHighpassFilterType = [0]\n",
      "nLowpassFilterType = [0]\n",
      "nPostProcessLowpassFilterType = ['\\x00']\n",
      "nStatsChannelPolarity = [0]\n",
      "nTelegraphEnable = [1]\n",
      "nTelegraphInstrument = [24]\n",
      "nTelegraphMode = [1]\n",
      "sTelegraphInstrument = ['MultiClamp 700']\n",
      "\n",
      "### DACSection ###\n",
      "\n",
      "~~~\n",
      "Information about the DAC (what gets clamped).\n",
      "There is 1 item per DAC.\n",
      "~~~\n",
      "fBaselineDuration = [1.0, 1.0, 1.0, 1.0, 1.0, 1.0, 1.0, 1.0]\n",
      "fBaselineLevel = [0.0, 0.0, 0.0, 0.0, 0.0, 0.0, 0.0, 0.0]\n",
      "fDACCalibrationFactor = [1.0011178255081177, 1.0010067224502563, 1.001062273979187, 1.0011178255081177, 1.0, 1.0, 1.0, 1.0]\n",
      "fDACCalibrationOffset = [5.0, 3.0, 4.0, 4.0, 0.0, 0.0, 0.0, 0.0]\n",
      "fDACFileOffset = [0.0, 0.0, 0.0, 0.0, 0.0, 0.0, 0.0, 0.0]\n",
      "fDACFileScale = [1.0, 1.0, 1.0, 1.0, 1.0, 1.0, 1.0, 1.0]\n",
      "fDACHoldingLevel = [0.0, 0.0, 0.0, 0.0, 0.0, 0.0, 0.0, 0.0]\n",
      "fDACScaleFactor = [400.0, 20.0, 20.0, 20.0, 20.0, 20.0, 20.0, 20.0]\n",
      "fInstrumentHoldingLevel = [0.0, 0.0, 0.0, 0.0, 0.0, 0.0, 0.0, 0.0]\n",
      "fMembTestPostSettlingTimeMS = [100.0, 100.0, 100.0, 100.0, 100.0, 100.0, 100.0, 100.0]\n",
      "fMembTestPreSettlingTimeMS = [100.0, 100.0, 100.0, 100.0, 100.0, 100.0, 100.0, 100.0]\n",
      "fPNHoldingLevel = [0.0, 0.0, 0.0, 0.0, 0.0, 0.0, 0.0, 0.0]\n",
      "fPNInterpulse = [0.0, 0.0, 0.0, 0.0, 0.0, 0.0, 0.0, 0.0]\n",
      "fPNSettlingTime = [100.0, 100.0, 100.0, 100.0, 100.0, 100.0, 100.0, 100.0]\n",
      "fPostTrainLevel = [0.0, 0.0, 0.0, 0.0, 0.0, 0.0, 0.0, 0.0]\n",
      "fPostTrainPeriod = [10.0, 10.0, 10.0, 10.0, 10.0, 10.0, 10.0, 10.0]\n",
      "fStepDuration = [1.0, 1.0, 1.0, 1.0, 1.0, 1.0, 1.0, 1.0]\n",
      "fStepLevel = [0.0, 0.0, 0.0, 0.0, 0.0, 0.0, 0.0, 0.0]\n",
      "lConditNumPulses = [1, 0, 0, 0, 0, 0, 0, 0]\n",
      "lDACChannelNameIndex = [5, 7, 9, 11, 13, 15, 17, 19]\n",
      "lDACChannelUnitsIndex = [6, 8, 10, 12, 14, 16, 18, 20]\n",
      "lDACFileEpisodeNum = [0, 0, 0, 0, 0, 0, 0, 0]\n",
      "lDACFileNumEpisodes = [0, 0, 0, 0, 0, 0, 0, 0]\n",
      "lDACFilePathIndex = [0, 0, 0, 0, 0, 0, 0, 0]\n",
      "lDACFilePtr = [0, 0, 0, 0, 0, 0, 0, 0]\n",
      "nConditEnable = [0, 0, 0, 0, 0, 0, 0, 0]\n",
      "nDACFileADCNum = [0, 0, 0, 0, 0, 0, 0, 0]\n",
      "nDACNum = [0, 1, 2, 3, 4, 5, 6, 7]\n",
      "nInterEpisodeLevel = [0, 0, 0, 0, 0, 0, 0, 0]\n",
      "nLTPPresynapticPulses = [0, 0, 0, 0, 0, 0, 0, 0]\n",
      "nLTPUsageOfDAC = [0, 0, 0, 0, 0, 0, 0, 0]\n",
      "nLeakSubtractADCIndex = [0, 0, 0, 0, 0, 0, 0, 0]\n",
      "nLeakSubtractType = [0, 0, 0, 0, 0, 0, 0, 0]\n",
      "nMembTestEnable = [0, 0, 0, 0, 0, 0, 0, 0]\n",
      "nPNNumADCChannels = [0, 0, 0, 0, 0, 0, 0, 0]\n",
      "nPNNumPulses = [4, 4, 4, 4, 4, 4, 4, 4]\n",
      "nPNPolarity = [1, 1, 1, 1, 1, 1, 1, 1]\n",
      "nPNPosition = [0, 0, 0, 0, 0, 0, 0, 0]\n",
      "nTelegraphDACScaleFactorEnable = [1, 1, 0, 0, 0, 0, 0, 0]\n",
      "nWaveformEnable = [1, 0, 0, 0, 0, 0, 0, 0]\n",
      "nWaveformSource = [1, 1, 1, 1, 1, 1, 1, 1]\n",
      "\n",
      "### EpochPerDACSection ###\n",
      "\n",
      "~~~\n",
      "This section contains waveform protocol information. These are most of\n",
      "the values set when using the epoch the waveform editor. Note that digital\n",
      "output signals are not stored here, but are in EpochSection.\n",
      "~~~\n",
      "fEpochInitLevel = [0.0, 0.0, 0.0, 0.0]\n",
      "fEpochLevelInc = [0.0, 0.0, 0.0, 0.0]\n",
      "lEpochDurationInc = [0, 0, 0, 0]\n",
      "lEpochInitDuration = [1000, 20, 10, 20]\n",
      "lEpochPulsePeriod = [0, 0, 0, 0]\n",
      "lEpochPulseWidth = [0, 0, 0, 0]\n",
      "nDACNum = [0, 0, 0, 0]\n",
      "nEpochNum = [0, 1, 2, 3]\n",
      "nEpochType = [1, 1, 1, 1]\n",
      "\n",
      "### EpochSection ###\n",
      "\n",
      "~~~\n",
      "This section contains the digital output signals for each epoch. This\n",
      "section has been overlooked by some previous open-source ABF-reading\n",
      "projects. Note that the digital output is a single byte, but represents\n",
      "8 bits corresponding to 8 outputs (7->0). When working with these bits,\n",
      "I convert it to a string like \"10011101\" for easy eyeballing.\n",
      "~~~\n",
      "nEpochDigitalOutput = [0, 2, 0, 2]\n",
      "nEpochNum = [0, 1, 2, 3]\n",
      "\n",
      "### TagSection ###\n",
      "\n",
      "~~~\n",
      "Tags are comments placed in ABF files during the recording. Physically\n",
      "they are located at the end of the file (after the data).\n",
      "\n",
      "Later we will populate the times and sweeps (human-understandable units)\n",
      "by multiplying the lTagTime by fSynchTimeUnit from the protocol section.\n",
      "~~~\n",
      "lTagTime = []\n",
      "nTagType = []\n",
      "nVoiceTagNumberorAnnotationIndex = []\n",
      "sComment = []\n",
      "sweeps = []\n",
      "timesMin = []\n",
      "timesSec = []\n",
      "\n",
      "### StringsSection ###\n",
      "\n",
      "~~~\n",
      "Part of the ABF file contains long strings. Some of these can be broken\n",
      "apart into indexed strings.\n",
      "\n",
      "The first string is the only one which seems to contain useful information.\n",
      "This contains information like channel names, channel units, and abf\n",
      "protocol path and comments. The other strings are very large and I do not\n",
      "know what they do.\n",
      "\n",
      "Strings which contain indexed substrings are separated by \\x00 characters.\n",
      "~~~\n",
      "strings = [b'SSCH\\x01\\x00\\x00\\x00\\x15\\x00\\x00\\x00i\\x00\\x00\\x00\\xdc\\x00\\x00\\x00\\x00\\x00\\x00\\x00\\x00\\x00\\x00\\x00\\x00\\x00\\x00\\x00\\x00\\x00\\x00\\x00\\x00\\x00\\x00\\x00\\x00\\x00\\x00\\x00Clampex\\x00C:\\\\Users\\\\Administrator\\\\Documents\\\\Molecular Devices\\\\pCLAMP\\\\Params\\\\Ming-Chi\\\\Optogenetic stim_ch1_deltaT.pro\\x00IN 0\\x00mV\\x00Cmd 0\\x00pA\\x00Cmd 1\\x00mV\\x00Cmd 2\\x00mV\\x00Cmd 3\\x00mV\\x00Cmd 4\\x00mV\\x00Cmd 5\\x00mV\\x00Cmd 6\\x00mV\\x00Cmd 7\\x00mV\\x0010, 20, 50, 100, 200, 500\\x00', b'\\x00\\x00\\x00\\x00\\x00\\x00\\x00\\x00\\x00\\x00\\x00\\x00\\x00\\x00\\x00\\x00\\x00\\x00\\x00\\x00\\x00\\x00\\x00\\x00\\x00\\x00\\x00\\x00\\x00\\x00\\x00\\x00\\x00\\x00\\x00\\x00\\x00\\x00\\x00\\x00\\x00\\x00\\x00\\x00\\x00\\x00\\x00\\x00\\x00\\x00\\x00\\x00\\x00\\x00\\x00\\x00\\x00\\x00\\x00\\x00\\x00\\x00\\x00\\x00\\x00\\x00\\x00\\x00\\x00\\x00\\x00\\x00\\x00\\x00\\x00\\x00\\x00\\x00\\x00\\x00\\x00\\x00\\x00\\x00\\x00\\x00\\x00\\x00\\x00\\x00\\x00\\x00\\x00\\x00\\x00\\x00\\x00\\x00\\x00\\x00\\x00\\x00\\x00\\x00\\x00\\x00\\x00\\x00\\x00\\x00\\x00\\x00\\x00\\x00\\x00\\x00\\x00\\x00\\x00\\x00\\x00\\x00\\x00\\x00\\x00\\x00\\x00\\x00\\x00\\x00\\x00\\x00\\x00\\x00\\x00\\x00\\x00\\x00\\x00\\x00\\x00\\x00\\x00\\x00\\x00\\x00\\x00\\x00\\x00\\x00\\x00\\x00\\x00\\x00\\x00\\x00\\x00\\x00\\x00\\x00\\x00\\x00\\x00\\x00\\x00\\x00\\x00\\x00\\x00\\x00\\x00\\x00\\x00\\x00\\x00\\x00\\x00\\x00\\x00\\x00\\x00\\x00\\x00\\x00\\x00\\x00\\x00\\x00\\x00\\x00\\x00\\x00\\x00\\x00\\x00\\x00\\x00\\x00\\x00\\x00\\x00\\x00\\x00\\x00\\x00\\x00\\x00\\x00\\x00\\x00\\x00\\x00\\x00\\x00\\x00\\x00\\x00\\x00\\x00\\x00\\x00\\x00\\x00\\x00\\x00\\x00\\x00\\x00\\x00\\x00\\x00\\x00\\x00\\x00\\x00\\x00\\x00\\x00\\x00\\x00\\x00\\x00\\x00\\x00\\x00\\x00\\x00\\x00\\x08\\x00@\\x00\\xff\\xff\\xff\\x00\\xc0\\xc0\\xc0\\x00\\x80\\x00\\x00\\x00', b'\\xff\\x00\\x00\\x00\\x00\\x00\\x00\\x00\\xff\\x00\\x00\\x00\\xc0\\xc0\\xc0\\x00\\x00\\x00\\x00\\x00\\xf0\\xf0\\xf0\\x00\\xa0\\xa0\\xa0\\x00\\x00\\x00\\x00\\x00\\x00@\\x9cE\\x00\\x00\\x00\\x00\\x00\\x00\\x00\\x00\\x00\\x00\\x00\\x00\\xf5\\xff\\x90\\x01\"\\x00\\x00\\x00Arial\\x00\\x00\\x00\\x00\\x00\\x00\\x00\\x00\\x00\\x00\\x00\\x00\\x00\\x00\\x00\\x00\\x00\\x00\\x00\\x00\\x00\\x00\\x00\\x00\\x00\\x00\\x00IN 0\\x00\\x00\\x00\\x00\\x00\\x00\\x00\\x00\\x00\\x00\\x00\\x00\\xff\\x00\\x01\\x00\\x00\\x00\\x00\\x00\\x80?\\x00\\x00\\x80?\\x00\\x00z\\xbc\\x00\\x00\\x00\\x00\\x00\\x00\\x00\\x00\\x00\\x00\\x00\\x00\\x00\\x00\\x00\\x00\\x00\\x00\\x00\\x00\\x00\\x00\\x00\\x00\\x00\\x00\\x00\\x00\\x00\\x00\\x00\\x00\\x00\\x00\\x00\\x00\\x00\\x00\\x00\\x00\\x00\\x00\\x00\\x00\\x00\\x00\\x00\\x00\\x00\\x00\\x00\\x00\\x00\\x00\\x00\\x00\\x00\\x00\\x00\\x00\\x00\\x00\\x00\\x00\\x00\\x00\\x00\\x00\\x00\\x00\\x00\\x00\\x00\\x00\\x00\\x00\\x00\\x00\\x00\\x00\\x00\\x00\\x00\\x00\\x00\\x00\\x00\\x00\\x00\\x00\\x00\\x00\\x00\\x00\\x00\\x00\\x00\\x00\\x00\\x00\\x00\\x00\\x00\\x00\\x00\\x00\\x00\\x00\\x00\\x00\\x00\\x00\\x00\\x00\\x00\\x00\\x00\\x00\\x00\\x00\\x00\\x00\\x00\\x00\\x00\\x00\\x00\\x00\\x00\\x00\\x00\\x00\\x00\\x00\\x00\\x00\\x00\\x00\\x00\\x00\\x00\\x00', b'\\x00\\x00\\x00\\x00\\x00\\x00\\x00\\x00\\x00\\x00\\x00\\x00\\x00\\x00\\x00\\x00\\x00\\x00\\x00\\x00\\x00\\x00\\x00\\x00\\x00\\x00\\x00\\x00\\x00\\x00\\x00\\x00\\x00\\x00\\x00\\x00\\x00\\x00\\x00\\x00\\x00\\x00\\x00\\x00\\x00\\x00\\x00\\x00\\x00\\x00\\x00\\x00\\x00\\x00\\x00\\x00\\x00\\x00\\x00\\x00\\x00\\x00\\x00\\x00\\x00\\x00\\x00\\x00\\x00\\x00\\x00\\x00\\x00\\x00\\x00\\x00\\x00\\x00\\x00\\x00\\x00\\x00\\x00\\x00\\x00\\x00\\x00\\x00\\x00\\x00\\x00\\x00\\x00\\x00\\x00\\x00\\x00\\x00\\x00\\x00\\x00\\x00\\x00\\x00\\x00\\x00\\x00\\x00\\x00\\x00\\x00\\x00\\x00\\x00\\x00\\x00\\x00\\x00\\x00\\x00\\x00\\x00\\x00\\x00\\x00\\x00\\x00\\x00\\x00\\x00\\x00\\x00\\x00\\x00\\x00\\x00\\x00\\x00\\x00\\x00\\x00\\x00\\x00\\x00\\x00\\x00\\x00\\x00\\x00\\x00\\x00\\x00\\x00\\x00\\x00\\x00\\x00\\x00\\x00\\x00\\x00\\x00\\x00\\x00\\x00\\x00\\x00\\x00\\x00\\x00\\x00\\x00\\x00\\x00\\x00\\x00\\x00\\x00\\x00\\x00\\x00\\x00\\x00\\x00\\x00\\x00\\x00\\x00\\x00\\x00\\x00\\x00\\x00\\x00\\x00\\x00\\x00\\x00\\x00\\x00\\x00\\x00\\x00\\x00\\x00\\x00\\x00\\x00\\x00\\x00\\x00\\x00\\x00\\x00\\x00\\x00\\x00\\x00\\x00\\x00\\x00\\x00\\x00\\x00\\x00\\x00\\x00\\x00\\x00\\x00\\x00\\x00\\x00\\x00\\x00\\x00\\x00\\x00\\x00\\x00\\x00\\x00\\x00\\x00\\x00\\x00\\x00\\x00\\x00\\x00\\x00\\x00\\x00\\x00\\x00\\x00\\x00\\x00\\x00\\x00\\x00\\x00\\x00\\x00', b'\\x00\\x00\\x00\\x00\\x00\\x00\\x00\\x00\\x00\\x00\\x00\\x00\\x00\\x00\\x00\\x00\\x00\\x00\\x00\\x00\\x00\\x00\\x00\\x00\\x00\\x00\\x00\\x00\\x00\\x00\\x00\\x00\\x00\\x00\\x00\\x00\\x00\\x00\\x00\\x00\\x00\\x00\\x00\\x00\\x00\\x00\\x00\\x00\\x00\\x00\\x00\\x00\\x00\\x00\\x00\\x00\\x00\\x00\\x00\\x00\\x00\\x00\\x00\\x00\\x00\\x00\\x00\\x00\\x00\\x00\\x00\\x00\\x00\\x00\\x00\\x00\\x00\\x00\\x00\\x00\\x00\\x00\\x00\\x00\\x00\\x00\\x00\\x00\\x00\\x00\\x00\\x00\\x00\\x00\\x00\\x00\\x00\\x00\\x00\\x00\\x00\\x00\\x00\\x00_\\x00\\x01\\x00\\x01\\x00\\x00\\x00\\x00\\x00\\x00\\x00\\x00\\x00\\x80\\x00\\x00\\x00\\x00\\x80\\x00\\x00\\x80\\x80\\x00\\x00\\x00\\x00\\x80\\x00\\x80\\x00\\x80\\x00\\x00\\x80\\x80\\x00\\x80\\x80\\x80\\x00\\xff\\x00\\x00\\x00\\x00\\x80\\x80\\x00\\x00\\x00\\x00\\x00\\x00\\x00\\x00\\x00\\x00\\x00\\x00\\x00\\x00\\x00\\x00\\x00\\x00\\x00\\x00\\x00\\x00\\x00\\x00\\x00\\x00\\x00\\x00\\x00\\x00\\x00\\x00\\x00\\x00\\x00\\x00\\x00\\x00\\x00\\x00\\x00\\x00\\x00\\x00\\x00\\x00\\x00\\x00\\x00\\x00\\x00\\x00\\x00\\x00\\x00\\x00\\x00\\x00\\x00\\x00\\x00\\x00\\x00\\x00\\x00\\x00\\x00\\x00\\x00\\x00\\x00\\x00\\x00\\x00\\x00\\x00\\x00\\x00\\x00\\x00\\x00\\x00\\x00\\x00\\x00\\x00\\x00\\x00\\x00\\x00\\x00\\x00\\x00\\x00\\x00\\x00\\x00\\x00\\x00\\x00\\x00\\x00\\x00\\x00\\x00\\x00\\x00\\x00\\x00\\x00\\x00', b'\\x00\\x00\\x00\\x00\\x00\\x00\\x00\\x00\\x00\\x00\\x00\\x00\\x00\\x00\\x00\\x00\\x00\\x00\\x00\\x00\\x00\\x00\\x00\\x00\\x00\\x00\\x00\\x00\\x00\\x00\\x00\\x00\\x00\\x00\\x00\\x00\\x00\\x00\\x00\\x00\\x00\\x00\\x00\\x00\\x00\\x00\\x00\\x00\\x00\\x00\\x00\\x00\\x00\\x00\\x00\\x00\\x00\\x00\\x00\\x00\\x00\\x00\\x00\\x00\\x00\\x00\\x00\\x00\\x00\\x00\\x00\\x00\\x00\\x00\\x00\\x00\\x00\\x00\\x00\\x00\\x00\\x00\\x00\\x00\\x00\\x00\\x00\\x00\\x00\\x00\\x00\\x00\\x00\\x00\\x00\\x00\\x00\\x00\\x00\\x00\\x00\\x00\\x00\\x00\\x00\\x00\\x00\\x00\\x00\\x00\\x00\\x00\\x00\\x00\\x00\\x00\\x00\\x00\\x00\\x00\\x00\\x00\\x00\\x00\\x00\\x00\\x00\\x00\\x00\\x00\\x00\\x00\\x00\\x00\\x00\\x00\\x00\\x00\\x00\\x00\\x00\\x00\\x00\\x00\\x00\\x00\\x00\\x00\\x00\\x00\\x00\\x00\\x00\\x00\\x00\\x00\\x00\\x00\\x00\\x00\\x00\\x00\\x00\\x00\\x00\\x00\\x00\\x00\\x00\\x00\\x00\\x00\\x00\\x00\\x00\\x00\\x00\\x00\\x00\\x00\\x00\\x00\\x00\\x00\\x00\\x00\\x00\\x00\\x00\\x00\\x00\\x00\\x00\\x00\\x00\\x00\\x00\\x00\\x00\\x00\\x00\\x00\\x00\\x00\\x00\\x00\\x00\\x00\\x00\\x00\\x00\\x00\\x00\\x00\\x00\\x00t\\xf7u\\xf7t\\xf7u\\xf7r\\xf7s\\xf7q\\xf7r\\xf7q\\xf7r\\xf7q\\xf7o\\xf7q\\xf7p\\xf7s\\xf7s\\xf7q\\xf7r\\xf7q\\xf7u\\xf7r\\xf7t\\xf7r\\xf7r\\xf7', b'u\\xf7q\\xf7s\\xf7r\\xf7s\\xf7u\\xf7r\\xf7t\\xf7r\\xf7t\\xf7s\\xf7u\\xf7u\\xf7s\\xf7s\\xf7r\\xf7s\\xf7s\\xf7s\\xf7q\\xf7p\\xf7r\\xf7r\\xf7s\\xf7r\\xf7r\\xf7r\\xf7s\\xf7t\\xf7s\\xf7t\\xf7r\\xf7r\\xf7s\\xf7t\\xf7t\\xf7r\\xf7r\\xf7q\\xf7r\\xf7s\\xf7r\\xf7s\\xf7r\\xf7t\\xf7s\\xf7r\\xf7s\\xf7q\\xf7s\\xf7q\\xf7s\\xf7s\\xf7q\\xf7s\\xf7r\\xf7s\\xf7p\\xf7s\\xf7r\\xf7r\\xf7t\\xf7r\\xf7s\\xf7r\\xf7r\\xf7t\\xf7s\\xf7t\\xf7s\\xf7t\\xf7s\\xf7s\\xf7t\\xf7r\\xf7t\\xf7t\\xf7t\\xf7r\\xf7q\\xf7s\\xf7s\\xf7t\\xf7q\\xf7r\\xf7s\\xf7s\\xf7u\\xf7s\\xf7u\\xf7t\\xf7t\\xf7s\\xf7t\\xf7u\\xf7s\\xf7u\\xf7v\\xf7v\\xf7u\\xf7u\\xf7x\\xf7w\\xf7x\\xf7w\\xf7y\\xf7x\\xf7x\\xf7y\\xf7y\\xf7z\\xf7{\\xf7}\\xf7z\\xf7z\\xf7{\\xf7u\\xf7y\\xf7w\\xf7z\\xf7x\\xf7y\\xf7z\\xf7z\\xf7|\\xf7z\\xf7{\\xf7{\\xf7}\\xf7~\\xf7|\\xf7\\x7f\\xf7', b'}\\xf7~\\xf7}\\xf7|\\xf7}\\xf7|\\xf7~\\xf7|\\xf7\\x7f\\xf7~\\xf7|\\xf7}\\xf7{\\xf7|\\xf7y\\xf7{\\xf7|\\xf7{\\xf7z\\xf7{\\xf7z\\xf7y\\xf7{\\xf7z\\xf7y\\xf7y\\xf7x\\xf7x\\xf7w\\xf7x\\xf7y\\xf7y\\xf7x\\xf7w\\xf7y\\xf7x\\xf7y\\xf7x\\xf7x\\xf7y\\xf7y\\xf7y\\xf7x\\xf7y\\xf7y\\xf7v\\xf7x\\xf7w\\xf7x\\xf7x\\xf7v\\xf7x\\xf7w\\xf7x\\xf7x\\xf7x\\xf7x\\xf7x\\xf7z\\xf7v\\xf7x\\xf7v\\xf7w\\xf7w\\xf7x\\xf7x\\xf7w\\xf7v\\xf7u\\xf7w\\xf7w\\xf7w\\xf7y\\xf7w\\xf7w\\xf7v\\xf7v\\xf7v\\xf7v\\xf7x\\xf7v\\xf7w\\xf7x\\xf7x\\xf7v\\xf7v\\xf7w\\xf7u\\xf7u\\xf7u\\xf7w\\xf7u\\xf7v\\xf7w\\xf7t\\xf7w\\xf7v\\xf7v\\xf7u\\xf7s\\xf7t\\xf7q\\xf7s\\xf7u\\xf7v\\xf7v\\xf7u\\xf7v\\xf7t\\xf7w\\xf7v\\xf7u\\xf7v\\xf7u\\xf7v\\xf7u\\xf7u\\xf7t\\xf7u\\xf7u\\xf7t\\xf7v\\xf7s\\xf7u\\xf7t\\xf7u\\xf7v\\xf7t\\xf7v\\xf7r\\xf7s\\xf7t\\xf7', b'u\\xf7v\\xf7u\\xf7v\\xf7u\\xf7v\\xf7t\\xf7t\\xf7t\\xf7r\\xf7t\\xf7s\\xf7u\\xf7t\\xf7v\\xf7u\\xf7t\\xf7u\\xf7p\\xf7o\\xf7q\\xf7q\\xf7s\\xf7q\\xf7q\\xf7q\\xf7q\\xf7p\\xf7p\\xf7q\\xf7p\\xf7u\\xf7t\\xf7t\\xf7s\\xf7r\\xf7t\\xf7r\\xf7u\\xf7u\\xf7u\\xf7u\\xf7s\\xf7t\\xf7r\\xf7s\\xf7t\\xf7r\\xf7r\\xf7r\\xf7t\\xf7r\\xf7t\\xf7r\\xf7s\\xf7r\\xf7p\\xf7r\\xf7r\\xf7s\\xf7r\\xf7q\\xf7s\\xf7s\\xf7v\\xf7s\\xf7r\\xf7r\\xf7s\\xf7s\\xf7s\\xf7t\\xf7s\\xf7u\\xf7u\\xf7u\\xf7v\\xf7u\\xf7u\\xf7t\\xf7s\\xf7v\\xf7u\\xf7u\\xf7t\\xf7u\\xf7t\\xf7v\\xf7u\\xf7s\\xf7t\\xf7s\\xf7v\\xf7s\\xf7t\\xf7t\\xf7r\\xf7s\\xf7t\\xf7u\\xf7v\\xf7v\\xf7u\\xf7t\\xf7u\\xf7s\\xf7t\\xf7r\\xf7t\\xf7s\\xf7r\\xf7t\\xf7s\\xf7t\\xf7s\\xf7t\\xf7u\\xf7t\\xf7u\\xf7t\\xf7u\\xf7r\\xf7t\\xf7u\\xf7s\\xf7s\\xf7s\\xf7u\\xf7t\\xf7s\\xf7t\\xf7t\\xf7', b't\\xf7s\\xf7t\\xf7t\\xf7r\\xf7r\\xf7r\\xf7t\\xf7s\\xf7q\\xf7p\\xf7r\\xf7t\\xf7r\\xf7t\\xf7q\\xf7r\\xf7s\\xf7r\\xf7t\\xf7r\\xf7s\\xf7s\\xf7u\\xf7u\\xf7u\\xf7u\\xf7s\\xf7v\\xf7u\\xf7v\\xf7t\\xf7q\\xf7t\\xf7s\\xf7u\\xf7t\\xf7t\\xf7t\\xf7t\\xf7u\\xf7t\\xf7v\\xf7r\\xf7t\\xf7t\\xf7u\\xf7v\\xf7u\\xf7t\\xf7t\\xf7t\\xf7t\\xf7m\\xf7n\\xf7o\\xf7r\\xf7o\\xf7q\\xf7r\\xf7q\\xf7r\\xf7p\\xf7t\\xf7s\\xf7s\\xf7v\\xf7u\\xf7u\\xf7u\\xf7v\\xf7u\\xf7t\\xf7u\\xf7s\\xf7s\\xf7p\\xf7r\\xf7r\\xf7s\\xf7t\\xf7r\\xf7s\\xf7p\\xf7r\\xf7r\\xf7r\\xf7t\\xf7p\\xf7q\\xf7q\\xf7s\\xf7s\\xf7s\\xf7s\\xf7r\\xf7t\\xf7r\\xf7s\\xf7u\\xf7s\\xf7t\\xf7r\\xf7r\\xf7r\\xf7r\\xf7q\\xf7n\\xf7r\\xf7r\\xf7r\\xf7p\\xf7r\\xf7r\\xf7t\\xf7t\\xf7q\\xf7r\\xf7p\\xf7s\\xf7r\\xf7q\\xf7q\\xf7p\\xf7r\\xf7q\\xf7q\\xf7s\\xf7q\\xf7s\\xf7p\\xf7p\\xf7', b'o\\xf7p\\xf7p\\xf7o\\xf7n\\xf7o\\xf7q\\xf7q\\xf7p\\xf7r\\xf7q\\xf7r\\xf7o\\xf7p\\xf7q\\xf7o\\xf7p\\xf7l\\xf7o\\xf7o\\xf7p\\xf7p\\xf7o\\xf7o\\xf7n\\xf7q\\xf7o\\xf7p\\xf7q\\xf7p\\xf7t\\xf7p\\xf7p\\xf7n\\xf7o\\xf7p\\xf7o\\xf7r\\xf7p\\xf7r\\xf7p\\xf7p\\xf7p\\xf7r\\xf7r\\xf7r\\xf7t\\xf7p\\xf7r\\xf7r\\xf7o\\xf7p\\xf7o\\xf7q\\xf7p\\xf7r\\xf7q\\xf7p\\xf7s\\xf7r\\xf7r\\xf7q\\xf7q\\xf7s\\xf7r\\xf7s\\xf7r\\xf7s\\xf7r\\xf7p\\xf7p\\xf7o\\xf7s\\xf7r\\xf7r\\xf7p\\xf7q\\xf7q\\xf7q\\xf7s\\xf7s\\xf7s\\xf7q\\xf7q\\xf7q\\xf7p\\xf7r\\xf7q\\xf7k\\xf7l\\xf7m\\xf7o\\xf7l\\xf7n\\xf7n\\xf7p\\xf7p\\xf7q\\xf7p\\xf7r\\xf7q\\xf7s\\xf7u\\xf7w\\xf7u\\xf7t\\xf7s\\xf7t\\xf7s\\xf7t\\xf7t\\xf7t\\xf7t\\xf7r\\xf7t\\xf7r\\xf7t\\xf7s\\xf7s\\xf7u\\xf7s\\xf7t\\xf7t\\xf7u\\xf7u\\xf7u\\xf7w\\xf7u\\xf7v\\xf7t\\xf7s\\xf7v\\xf7', b't\\xf7w\\xf7t\\xf7v\\xf7v\\xf7v\\xf7u\\xf7t\\xf7t\\xf7t\\xf7v\\xf7v\\xf7w\\xf7w\\xf7v\\xf7y\\xf7u\\xf7v\\xf7v\\xf7v\\xf7w\\xf7w\\xf7w\\xf7v\\xf7y\\xf7v\\xf7x\\xf7x\\xf7v\\xf7w\\xf7v\\xf7w\\xf7v\\xf7v\\xf7w\\xf7v\\xf7w\\xf7x\\xf7w\\xf7w\\xf7y\\xf7w\\xf7w\\xf7y\\xf7v\\xf7x\\xf7x\\xf7x\\xf7x\\xf7w\\xf7v\\xf7w\\xf7x\\xf7x\\xf7w\\xf7y\\xf7w\\xf7y\\xf7w\\xf7x\\xf7y\\xf7v\\xf7w\\xf7v\\xf7z\\xf7x\\xf7x\\xf7w\\xf7x\\xf7x\\xf7w\\xf7y\\xf7x\\xf7x\\xf7y\\xf7x\\xf7z\\xf7x\\xf7x\\xf7x\\xf7y\\xf7x\\xf7w\\xf7z\\xf7w\\xf7y\\xf7x\\xf7x\\xf7x\\xf7w\\xf7z\\xf7x\\xf7w\\xf7v\\xf7x\\xf7y\\xf7w\\xf7x\\xf7w\\xf7y\\xf7x\\xf7y\\xf7x\\xf7v\\xf7x\\xf7v\\xf7y\\xf7w\\xf7w\\xf7y\\xf7v\\xf7w\\xf7v\\xf7x\\xf7w\\xf7w\\xf7x\\xf7v\\xf7w\\xf7v\\xf7x\\xf7x\\xf7w\\xf7r\\xf7t\\xf7u\\xf7t\\xf7v\\xf7v\\xf7v\\xf7v\\xf7t\\xf7', b'v\\xf7v\\xf7u\\xf7w\\xf7z\\xf7x\\xf7x\\xf7x\\xf7w\\xf7w\\xf7x\\xf7y\\xf7{\\xf7w\\xf7z\\xf7x\\xf7x\\xf7y\\xf7v\\xf7x\\xf7w\\xf7w\\xf7x\\xf7y\\xf7x\\xf7w\\xf7x\\xf7w\\xf7y\\xf7x\\xf7x\\xf7y\\xf7w\\xf7y\\xf7y\\xf7{\\xf7x\\xf7y\\xf7y\\xf7x\\xf7{\\xf7{\\xf7{\\xf7z\\xf7z\\xf7|\\xf7{\\xf7{\\xf7{\\xf7z\\xf7z\\xf7y\\xf7z\\xf7z\\xf7{\\xf7y\\xf7y\\xf7y\\xf7{\\xf7{\\xf7z\\xf7z\\xf7x\\xf7z\\xf7y\\xf7y\\xf7z\\xf7{\\xf7{\\xf7y\\xf7z\\xf7{\\xf7y\\xf7y\\xf7w\\xf7w\\xf7y\\xf7w\\xf7x\\xf7y\\xf7x\\xf7y\\xf7y\\xf7w\\xf7y\\xf7x\\xf7w\\xf7y\\xf7w\\xf7y\\xf7v\\xf7x\\xf7x\\xf7x\\xf7y\\xf7y\\xf7y\\xf7x\\xf7x\\xf7y\\xf7y\\xf7z\\xf7u\\xf7w\\xf7w\\xf7w\\xf7{\\xf7y\\xf7z\\xf7w\\xf7z\\xf7y\\xf7y\\xf7{\\xf7x\\xf7z\\xf7y\\xf7w\\xf7x\\xf7w\\xf7y\\xf7x\\xf7y\\xf7w\\xf7z\\xf7y\\xf7y\\xf7x\\xf7v\\xf7x\\xf7v\\xf7x\\xf7', b'v\\xf7u\\xf7y\\xf7x\\xf7z\\xf7w\\xf7w\\xf7x\\xf7x\\xf7x\\xf7w\\xf7x\\xf7w\\xf7w\\xf7z\\xf7y\\xf7y\\xf7x\\xf7x\\xf7u\\xf7u\\xf7v\\xf7v\\xf7w\\xf7w\\xf7w\\xf7p\\xf7r\\xf7t\\xf7s\\xf7t\\xf7t\\xf7u\\xf7w\\xf7u\\xf7w\\xf7w\\xf7v\\xf7u\\xf7w\\xf7u\\xf7w\\xf7x\\xf7w\\xf7v\\xf7v\\xf7w\\xf7v\\xf7w\\xf7x\\xf7v\\xf7w\\xf7v\\xf7v\\xf7u\\xf7u\\xf7v\\xf7u\\xf7x\\xf7v\\xf7v\\xf7u\\xf7t\\xf7t\\xf7w\\xf7x\\xf7v\\xf7v\\xf7v\\xf7t\\xf7v\\xf7w\\xf7w\\xf7u\\xf7v\\xf7v\\xf7t\\xf7w\\xf7s\\xf7v\\xf7v\\xf7v\\xf7x\\xf7w\\xf7w\\xf7v\\xf7x\\xf7v\\xf7y\\xf7v\\xf7w\\xf7y\\xf7x\\xf7w\\xf7w\\xf7v\\xf7w\\xf7w\\xf7x\\xf7w\\xf7x\\xf7u\\xf7v\\xf7w\\xf7v\\xf7w\\xf7v\\xf7x\\xf7x\\xf7x\\xf7y\\xf7x\\xf7z\\xf7w\\xf7x\\xf7w\\xf7x\\xf7y\\xf7v\\xf7w\\xf7u\\xf7v\\xf7v\\xf7v\\xf7x\\xf7v\\xf7w\\xf7v\\xf7x\\xf7v\\xf7y\\xf7x\\xf7', b'x\\xf7z\\xf7z\\xf7|\\xf7{\\xf7{\\xf7{\\xf7z\\xf7z\\xf7v\\xf7x\\xf7y\\xf7y\\xf7y\\xf7x\\xf7y\\xf7v\\xf7y\\xf7y\\xf7y\\xf7y\\xf7x\\xf7{\\xf7{\\xf7{\\xf7{\\xf7x\\xf7z\\xf7y\\xf7{\\xf7y\\xf7z\\xf7y\\xf7x\\xf7y\\xf7y\\xf7x\\xf7y\\xf7x\\xf7x\\xf7y\\xf7y\\xf7x\\xf7z\\xf7y\\xf7x\\xf7y\\xf7w\\xf7x\\xf7w\\xf7v\\xf7v\\xf7y\\xf7z\\xf7y\\xf7{\\xf7z\\xf7y\\xf7y\\xf7x\\xf7x\\xf7t\\xf7w\\xf7v\\xf7z\\xf7z\\xf7|\\xf7\\x81\\xf7\\x81\\xf7\\x85\\xf7\\x87\\xf7\\x8c\\xf7\\x8f\\xf7\\x95\\xf7\\x9a\\xf7\\x9f\\xf7\\xa6\\xf7\\xa7\\xf7\\xaf\\xf7\\xb5\\xf7\\xb9\\xf7\\xc2\\xf7\\xc8\\xf7\\xd0\\xf7\\xd5\\xf7\\xde\\xf7\\xe6\\xf7\\xed\\xf7\\xf8\\xf7\\xfd\\xf7\\x05\\xf8\\r\\xf8\\x19\\xf8\"\\xf8*\\xf84\\xf8<\\xf8G\\xf8P\\xf8Z\\xf8b\\xf8l\\xf8w\\xf8\\x7f\\xf8\\x87\\xf8\\x90\\xf8\\x99\\xf8\\xa0\\xf8\\xaa\\xf8\\xb4\\xf8\\xbb\\xf8\\xc4\\xf8\\xca\\xf8\\xd5\\xf8\\xde\\xf8\\xe5\\xf8\\xed\\xf8\\xf4\\xf8\\xfe\\xf8\\x03\\xf9\\x0b\\xf9\\x13\\xf9\\x18\\xf9\"\\xf9\\'\\xf90\\xf95\\xf9<\\xf9B\\xf9G\\xf9O\\xf9U\\xf9', b'\\\\\\xf9a\\xf9f\\xf9n\\xf9r\\xf9z\\xf9|\\xf9\\x84\\xf9\\x88\\xf9\\x8f\\xf9\\x95\\xf9\\x98\\xf9\\xa0\\xf9\\xa3\\xf9\\xa8\\xf9\\xaf\\xf9\\xb3\\xf9\\xb9\\xf9\\xbc\\xf9\\xc2\\xf9\\xc5\\xf9\\xcb\\xf9\\xce\\xf9\\xd0\\xf9\\xd6\\xf9\\xd7\\xf9\\xdd\\xf9\\xde\\xf9\\xe2\\xf9\\xe5\\xf9\\xe9\\xf9\\xeb\\xf9\\xec\\xf9\\xf1\\xf9\\xf0\\xf9\\xf6\\xf9\\xfb\\xf9\\xff\\xf9\\x07\\xfa\\x08\\xfa\\t\\xfa\\x0e\\xfa\\x12\\xfa\\x14\\xfa\\x13\\xfa\\x13\\xfa\\x14\\xfa\\x19\\xfa\\x18\\xfa\\x1a\\xfa\\x1b\\xfa\\x1e\\xfa\"\\xfa#\\xfa#\\xfa#\\xfa&\\xfa(\\xfa)\\xfa-\\xfa0\\xfa4\\xfa6\\xfa6\\xfa5\\xfa5\\xfa5\\xfa6\\xfa9\\xfa8\\xfa8\\xfa7\\xfa8\\xfa9\\xfa6\\xfa9\\xfa:\\xfa:\\xfa:\\xfa7\\xfa:\\xfa8\\xfa:\\xfa9\\xfa9\\xfa9\\xfa7\\xfa9\\xfa8\\xfa9\\xfa6\\xfa6\\xfa6\\xfa4\\xfa6\\xfa/\\xfa0\\xfa/\\xfa+\\xfa*\\xfa&\\xfa%\\xfa\"\\xfa\"\\xfa\\x1f\\xfa\\x1d\\xfa\\x1a\\xfa\\x19\\xfa\\x18\\xfa\\x12\\xfa\\x14\\xfa\\x11\\xfa\\x0e\\xfa\\r\\xfa\\x07\\xfa\\x06\\xfa\\x01\\xfa\\x02\\xfa\\x01\\xfa\\xff\\xf9\\xfd\\xf9\\xf9\\xf9\\xf9\\xf9\\xf5\\xf9\\xf4\\xf9\\xf2\\xf9\\xee\\xf9\\xec\\xf9\\xe8\\xf9\\xe6\\xf9\\xe1\\xf9\\xe0\\xf9', b'\\xdf\\xf9\\xdc\\xf9\\xdb\\xf9\\xd4\\xf9\\xd1\\xf9\\xce\\xf9\\xcc\\xf9\\xcb\\xf9\\xc8\\xf9\\xc6\\xf9\\xc2\\xf9\\xc2\\xf9\\xbe\\xf9\\xbb\\xf9\\xba\\xf9\\xb9\\xf9\\xb7\\xf9\\xb2\\xf9\\xb1\\xf9\\xaf\\xf9\\xaf\\xf9\\xac\\xf9\\xa9\\xf9\\xa6\\xf9\\xa2\\xf9\\xa2\\xf9\\x9e\\xf9\\x9c\\xf9\\x99\\xf9\\x98\\xf9\\x96\\xf9\\x91\\xf9\\x91\\xf9\\x8b\\xf9\\x8a\\xf9\\x8a\\xf9\\x87\\xf9\\x88\\xf9\\x83\\xf9\\x83\\xf9\\x81\\xf9\\x80\\xf9}\\xf9z\\xf9y\\xf9t\\xf9s\\xf9q\\xf9p\\xf9o\\xf9l\\xf9m\\xf9k\\xf9j\\xf9h\\xf9f\\xf9f\\xf9d\\xf9b\\xf9[\\xf9Z\\xf9[\\xf9Y\\xf9X\\xf9V\\xf9V\\xf9T\\xf9S\\xf9R\\xf9N\\xf9O\\xf9K\\xf9J\\xf9H\\xf9G\\xf9I\\xf9E\\xf9D\\xf9C\\xf9B\\xf9A\\xf9>\\xf9;\\xf98\\xf97\\xf95\\xf94\\xf93\\xf93\\xf9/\\xf9-\\xf9,\\xf9+\\xf9+\\xf9)\\xf9(\\xf9(\\xf9%\\xf9$\\xf9\"\\xf9!\\xf9\\x1f\\xf9\\x1f\\xf9\\x1d\\xf9\\x1b\\xf9\\x1c\\xf9\\x19\\xf9\\x19\\xf9\\x15\\xf9\\x14\\xf9\\x15\\xf9\\x12\\xf9\\x14\\xf9\\x0f\\xf9\\x10\\xf9\\x0f\\xf9\\x0e\\xf9\\r\\xf9\\x0c\\xf9\\x0c\\xf9\\x08\\xf9\\x08\\xf9\\x06\\xf9\\x06\\xf9\\x04\\xf9\\x03\\xf9\\x02\\xf9\\x00\\xf9\\xff\\xf8\\xfc\\xf8\\xf5\\xf8\\xf6\\xf8', b'\\xf5\\xf8\\xf5\\xf8\\xf3\\xf8\\xf4\\xf8\\xf3\\xf8\\xf1\\xf8\\xf1\\xf8\\xf0\\xf8\\xf0\\xf8\\xef\\xf8\\xef\\xf8\\xee\\xf8\\xec\\xf8\\xeb\\xf8\\xea\\xf8\\xea\\xf8\\xe7\\xf8\\xe6\\xf8\\xe3\\xf8\\xe4\\xf8\\xe2\\xf8\\xdf\\xf8\\xe0\\xf8\\xe0\\xf8\\xdd\\xf8\\xdc\\xf8\\xdb\\xf8\\xda\\xf8\\xd7\\xf8\\xd9\\xf8\\xd6\\xf8\\xd6\\xf8\\xd8\\xf8\\xd7\\xf8\\xd8\\xf8\\xd5\\xf8\\xd5\\xf8\\xd4\\xf8\\xd2\\xf8\\xd1\\xf8\\xcf\\xf8\\xcf\\xf8\\xce\\xf8\\xd0\\xf8\\xce\\xf8\\xcc\\xf8\\xca\\xf8\\xc9\\xf8\\xca\\xf8\\xc7\\xf8\\xc7\\xf8\\xc3\\xf8\\xc2\\xf8\\xc4\\xf8\\xc3\\xf8\\xc2\\xf8\\xc1\\xf8\\xc2\\xf8\\xc1\\xf8\\xbe\\xf8\\xbc\\xf8\\xba\\xf8\\xbe\\xf8\\xbd\\xf8\\xbc\\xf8\\xbc\\xf8\\xba\\xf8\\xba\\xf8\\xb8\\xf8\\xb9\\xf8\\xb5\\xf8\\xb5\\xf8\\xb5\\xf8\\xb4\\xf8\\xb5\\xf8\\xb4\\xf8\\xb4\\xf8\\xb1\\xf8\\xb1\\xf8\\xb2\\xf8\\xae\\xf8\\xb0\\xf8\\xae\\xf8\\xae\\xf8\\xac\\xf8\\xac\\xf8\\xab\\xf8\\xa9\\xf8\\xaa\\xf8\\xa9\\xf8\\xa9\\xf8\\xa7\\xf8\\xa7\\xf8\\xa5\\xf8\\xa2\\xf8\\xa4\\xf8\\xa2\\xf8\\xa2\\xf8\\x9f\\xf8\\xa0\\xf8\\xa0\\xf8\\x9d\\xf8\\x9d\\xf8\\x9c\\xf8\\x9c\\xf8\\x9c\\xf8\\x9d\\xf8\\x9e\\xf8\\x9b\\xf8\\x9b\\xf8\\x98\\xf8\\x99\\xf8\\x96\\xf8\\x97\\xf8\\x96\\xf8\\x96\\xf8\\x98\\xf8\\x94\\xf8\\x94\\xf8\\x92\\xf8\\x91\\xf8\\x92\\xf8\\x8f\\xf8\\x90\\xf8\\x8d\\xf8\\x8c\\xf8\\x8c\\xf8\\x8d\\xf8\\x8d\\xf8\\x89\\xf8\\x8a\\xf8\\x89\\xf8', b'\\x8b\\xf8\\x8a\\xf8\\x87\\xf8\\x87\\xf8\\x84\\xf8\\x85\\xf8\\x84\\xf8\\x85\\xf8\\x86\\xf8\\x84\\xf8\\x84\\xf8\\x80\\xf8\\x83\\xf8\\x80\\xf8\\x81\\xf8\\x7f\\xf8}\\xf8~\\xf8}\\xf8}\\xf8{\\xf8|\\xf8z\\xf8w\\xf8v\\xf8u\\xf8x\\xf8u\\xf8v\\xf8w\\xf8u\\xf8v\\xf8s\\xf8m\\xf8m\\xf8m\\xf8m\\xf8m\\xf8m\\xf8m\\xf8n\\xf8l\\xf8l\\xf8k\\xf8k\\xf8k\\xf8k\\xf8l\\xf8j\\xf8j\\xf8j\\xf8g\\xf8i\\xf8e\\xf8g\\xf8g\\xf8g\\xf8g\\xf8e\\xf8f\\xf8b\\xf8b\\xf8a\\xf8a\\xf8a\\xf8_\\xf8`\\xf8]\\xf8\\\\\\xf8]\\xf8Z\\xf8Z\\xf8Z\\xf8[\\xf8Z\\xf8Y\\xf8X\\xf8W\\xf8X\\xf8V\\xf8U\\xf8T\\xf8R\\xf8S\\xf8R\\xf8R\\xf8P\\xf8Q\\xf8O\\xf8N\\xf8O\\xf8N\\xf8O\\xf8N\\xf8L\\xf8K\\xf8M\\xf8L\\xf8L\\xf8K\\xf8J\\xf8K\\xf8I\\xf8J\\xf8J\\xf8F\\xf8H\\xf8F\\xf8G\\xf8E\\xf8D\\xf8E\\xf8D\\xf8E\\xf8C\\xf8D\\xf8B\\xf8@\\xf8A\\xf8>\\xf8@\\xf8?\\xf8A\\xf8>\\xf8<\\xf8>\\xf8<\\xf8>\\xf89\\xf8:\\xf89\\xf88\\xf8', b'9\\xf88\\xf8:\\xf87\\xf88\\xf88\\xf88\\xf89\\xf86\\xf84\\xf82\\xf85\\xf84\\xf82\\xf82\\xf81\\xf81\\xf8.\\xf8.\\xf81\\xf8.\\xf80\\xf8.\\xf8-\\xf8,\\xf80\\xf8.\\xf8,\\xf8-\\xf8*\\xf8,\\xf8*\\xf8)\\xf8*\\xf8(\\xf8(\\xf8&\\xf8&\\xf8#\\xf8#\\xf8$\\xf8$\\xf8$\\xf8\"\\xf8$\\xf8\"\\xf8\"\\xf8!\\xf8 \\xf8\"\\xf8!\\xf8!\\xf8\\x1d\\xf8\\x1f\\xf8\\x1f\\xf8\\x1e\\xf8\\x1f\\xf8\\x1c\\xf8\\x1e\\xf8\\x1d\\xf8\\x1b\\xf8\\x1c\\xf8\\x1a\\xf8\\x1c\\xf8\\x1a\\xf8\\x1c\\xf8\\x1b\\xf8\\x19\\xf8\\x13\\xf8\\x13\\xf8\\x15\\xf8\\x14\\xf8\\x16\\xf8\\x17\\xf8\\x15\\xf8\\x17\\xf8\\x15\\xf8\\x16\\xf8\\x14\\xf8\\x14\\xf8\\x14\\xf8\\x16\\xf8\\x16\\xf8\\x14\\xf8\\x15\\xf8\\x15\\xf8\\x13\\xf8\\x13\\xf8\\x13\\xf8\\x14\\xf8\\x13\\xf8\\x14\\xf8\\x12\\xf8\\x12\\xf8\\x12\\xf8\\x10\\xf8\\x11\\xf8\\x0e\\xf8\\x0f\\xf8\\x0f\\xf8\\x10\\xf8\\x0f\\xf8\\r\\xf8\\r\\xf8\\x0c\\xf8\\x0e\\xf8\\r\\xf8\\x0e\\xf8\\r\\xf8\\x0b\\xf8\\x0e\\xf8\\r\\xf8\\x0e\\xf8\\x0b\\xf8\\x0c\\xf8\\r\\xf8\\n\\xf8\\n\\xf8\\t\\xf8\\n\\xf8\\n\\xf8\\n\\xf8\\x0b\\xf8\\t\\xf8\\n\\xf8\\t\\xf8\\x08\\xf8\\x07\\xf8\\x08\\xf8\\x07\\xf8\\x06\\xf8\\x07\\xf8', b'\\x06\\xf8\\x06\\xf8\\x05\\xf8\\x06\\xf8\\x06\\xf8\\x06\\xf8\\x07\\xf8\\x05\\xf8\\x04\\xf8\\x04\\xf8\\x05\\xf8\\x05\\xf8\\x05\\xf8\\x04\\xf8\\x03\\xf8\\x04\\xf8\\x02\\xf8\\x02\\xf8\\x02\\xf8\\x00\\xf8\\x03\\xf8\\x01\\xf8\\x02\\xf8\\x03\\xf8\\x03\\xf8\\x03\\xf8\\x01\\xf8\\x02\\xf8\\x02\\xf8\\x04\\xf8\\x02\\xf8\\x03\\xf8\\x06\\xf8\\x03\\xf8\\x03\\xf8\\x00\\xf8\\x02\\xf8\\x03\\xf8\\x01\\xf8\\x02\\xf8\\x01\\xf8\\x03\\xf8\\x02\\xf8\\x00\\xf8\\x00\\xf8\\xff\\xf7\\x00\\xf8\\xfe\\xf7\\xfe\\xf7\\xff\\xf7\\xff\\xf7\\x00\\xf8\\xff\\xf7\\x00\\xf8\\xfd\\xf7\\xfe\\xf7\\xfc\\xf7\\xfc\\xf7\\xff\\xf7\\xfc\\xf7\\xfe\\xf7\\xfc\\xf7\\xfb\\xf7\\xfa\\xf7\\xfa\\xf7\\xfb\\xf7\\xfb\\xf7\\xfa\\xf7\\xf8\\xf7\\xfb\\xf7\\xfb\\xf7\\xfa\\xf7\\xf9\\xf7\\xfa\\xf7\\xf9\\xf7\\xf9\\xf7\\xfa\\xf7\\xf9\\xf7\\xf6\\xf7\\xf6\\xf7\\xf8\\xf7\\xf8\\xf7\\xf6\\xf7\\xf7\\xf7\\xf5\\xf7\\xf7\\xf7\\xf7\\xf7\\xf5\\xf7\\xf5\\xf7\\xf5\\xf7\\xf4\\xf7\\xf6\\xf7\\xf5\\xf7\\xf5\\xf7\\xf5\\xf7\\xf6\\xf7\\xf3\\xf7\\xf5\\xf7\\xf4\\xf7\\xf3\\xf7\\xf2\\xf7\\xf0\\xf7\\xf4\\xf7\\xec\\xf7\\xee\\xf7\\xee\\xf7\\xee\\xf7\\xee\\xf7\\xee\\xf7\\xef\\xf7\\xee\\xf7\\xef\\xf7\\xee\\xf7\\xef\\xf7\\xee\\xf7\\xee\\xf7\\xf2\\xf7\\xf3\\xf7\\xf1\\xf7\\xf3\\xf7\\xf0\\xf7\\xf0\\xf7\\xee\\xf7\\xee\\xf7\\xef\\xf7\\xef\\xf7\\xee\\xf7\\xed\\xf7\\xee\\xf7\\xeb\\xf7\\xec\\xf7\\xea\\xf7']\n",
      "\n",
      "### StringsIndexed ###\n",
      "\n",
      "~~~\n",
      "This object provides easy access to strings which are scattered around\n",
      "the header files. The StringsSection contains strings, but various headers\n",
      "contain values which point to a certain string index. This class connects\n",
      "the two, and provides direct access to those strings by their indexed name.\n",
      "~~~\n",
      "lADCChannelName = ['IN 0']\n",
      "lADCUnits = ['mV']\n",
      "lDACChannelName = ['Cmd 0', 'Cmd 1', 'Cmd 2', 'Cmd 3', 'Cmd 4', 'Cmd 5', 'Cmd 6', 'Cmd 7']\n",
      "lDACChannelUnits = ['pA', 'mV', 'mV', 'mV', 'mV', 'mV', 'mV', 'mV']\n",
      "lDACFilePath = ['', '', '', '', '', '', '', '']\n",
      "lFileComment =\n",
      "nLeakSubtractADC = ['', '', '', '', '', '', '', '']\n",
      "uCreatorName = Clampex\n",
      "uModifierName =\n",
      "uProtocolPath = C:\\Users\\Administrator\\Documents\\Molecular Devices\\pCLAMP\\Params\\Ming-Chi\\Optogenetic stim_ch1_deltaT.pro\n",
      "\n"
     ]
    },
    {
     "name": "stderr",
     "output_type": "stream",
     "text": [
      "C:\\Users\\tsaim5\\AppData\\Local\\Continuum\\anaconda3\\envs\\Ephys\\lib\\site-packages\\pyabf\\abfHeaderDisplay.py:83: FutureWarning: elementwise comparison failed; returning scalar instead, but in the future will perform elementwise comparison\n",
      "  if value == \"~SECTION~\":\n",
      "C:\\Users\\tsaim5\\AppData\\Local\\Continuum\\anaconda3\\envs\\Ephys\\lib\\site-packages\\pyabf\\abfHeaderDisplay.py:85: FutureWarning: elementwise comparison failed; returning scalar instead, but in the future will perform elementwise comparison\n",
      "  elif value == \"~DOCS~\":\n"
     ]
    }
   ],
   "source": [
    "print(abf.headerText) # display header information in the console\n",
    "abf.headerLaunch()"
   ]
  },
  {
   "cell_type": "code",
   "execution_count": 4,
   "metadata": {},
   "outputs": [
    {
     "data": {
      "text/plain": [
       "1"
      ]
     },
     "execution_count": 4,
     "metadata": {},
     "output_type": "execute_result"
    }
   ],
   "source": [
    "abf.channelCount"
   ]
  },
  {
   "cell_type": "code",
   "execution_count": 5,
   "metadata": {},
   "outputs": [
    {
     "data": {
      "text/plain": [
       "[0,\n",
       " 1,\n",
       " 2,\n",
       " 3,\n",
       " 4,\n",
       " 5,\n",
       " 6,\n",
       " 7,\n",
       " 8,\n",
       " 9,\n",
       " 10,\n",
       " 11,\n",
       " 12,\n",
       " 13,\n",
       " 14,\n",
       " 15,\n",
       " 16,\n",
       " 17,\n",
       " 18,\n",
       " 19,\n",
       " 20,\n",
       " 21,\n",
       " 22,\n",
       " 23,\n",
       " 24,\n",
       " 25,\n",
       " 26,\n",
       " 27,\n",
       " 28,\n",
       " 29]"
      ]
     },
     "execution_count": 5,
     "metadata": {},
     "output_type": "execute_result"
    }
   ],
   "source": [
    "abf.sweepList"
   ]
  },
  {
   "cell_type": "code",
   "execution_count": 6,
   "metadata": {},
   "outputs": [],
   "source": [
    "#y = []\n",
    "opto = []\n",
    "for sweep in abf.sweepList:\n",
    "    #abf.setSweep(sweep,channel=0)\n",
    "    #y.append(abf.sweepY)\n",
    "    abf.setSweep(sweep,channel=0)\n",
    "    opto.append(abf.sweepY)\n",
    "#y = np.stack(y)\n",
    "opto = np.stack(opto)\n",
    "x = abf.sweepX"
   ]
  },
  {
   "cell_type": "code",
   "execution_count": 7,
   "metadata": {},
   "outputs": [
    {
     "data": {
      "text/plain": [
       "[<matplotlib.lines.Line2D at 0x99b4bc8>]"
      ]
     },
     "execution_count": 7,
     "metadata": {},
     "output_type": "execute_result"
    },
    {
     "data": {
      "image/png": "[encoded data removed]",
      "text/plain": [
       "<Figure size 432x288 with 1 Axes>"
      ]
     },
     "metadata": {
      "needs_background": "light"
     },
     "output_type": "display_data"
    }
   ],
   "source": [
    "meansweep = np.array(opto).mean(axis = 0)\n",
    "plt.plot(abf.sweepX, meansweep)\n"
   ]
  },
  {
   "cell_type": "code",
   "execution_count": 8,
   "metadata": {
    "scrolled": true
   },
   "outputs": [
    {
     "data": {
      "text/plain": [
       "[<matplotlib.lines.Line2D at 0x9e4d288>]"
      ]
     },
     "execution_count": 8,
     "metadata": {},
     "output_type": "execute_result"
    },
    {
     "data": {
      "image/png": "[encoded data removed]",
      "text/plain": [
       "<Figure size 576x288 with 2 Axes>"
      ]
     },
     "metadata": {
      "needs_background": "light"
     },
     "output_type": "display_data"
    }
   ],
   "source": [
    "f, ax = plt.subplots(2,1,figsize = (8,4))\n",
    "#ax[0].plot(x,y[0,:])\n",
    "ax[0].plot(x,opto[0,:])"
   ]
  },
  {
   "cell_type": "code",
   "execution_count": 9,
   "metadata": {},
   "outputs": [
    {
     "data": {
      "text/plain": [
       "[<matplotlib.lines.Line2D at 0xa738c48>]"
      ]
     },
     "execution_count": 9,
     "metadata": {},
     "output_type": "execute_result"
    },
    {
     "data": {
      "image/png": "[encoded data removed]",
      "text/plain": [
       "<Figure size 576x288 with 2 Axes>"
      ]
     },
     "metadata": {
      "needs_background": "light"
     },
     "output_type": "display_data"
    }
   ],
   "source": [
    "f, ax = plt.subplots(2,1,figsize = (8,4))\n",
    "#ax[0].plot(x,y[0,:])\n",
    "ax[1].plot(x,opto[0,:])"
   ]
  },
  {
   "cell_type": "code",
   "execution_count": 10,
   "metadata": {},
   "outputs": [
    {
     "data": {
      "image/png": "[encoded data removed]",
      "text/plain": [
       "<Figure size 576x576 with 1 Axes>"
      ]
     },
     "metadata": {
      "needs_background": "light"
     },
     "output_type": "display_data"
    }
   ],
   "source": [
    "# use a custom colormap\n",
    "cm = plt.get_cmap(\"winter\")\n",
    "colors = [cm(x/abf.sweepCount) for x in abf.sweepList]\n",
    "\n",
    "plt.figure(figsize=(8,8))\n",
    "for sweepNumber in abf.sweepList[0:5]:\n",
    "    plt.plot(\n",
    "        x + .05 * sweepNumber,\n",
    "        opto[sweepNumber,:] + 50*sweepNumber,\n",
    "        color=colors[sweepNumber],\n",
    "        lw=1, alpha=.6)\n",
    "#     plt.plot(\n",
    "#         abf.sweepX[i1:i2] + 0 * sweepNumber,\n",
    "#         abf.sweepY[i1:i2] + 10*sweepNumber,\n",
    "#         color=colors[sweepNumber],\n",
    "#         lw=.5, alpha=.6)\n",
    "\n",
    "# remove axes and use tight margins\n",
    "plt.gca().get_yaxis().set_visible(False)  # hide Y axis\n",
    "plt.gca().get_xaxis().set_visible(False)  # hide X axis\n",
    "plt.margins(.02, .02)\n",
    "plt.tight_layout()\n",
    "\n",
    "plt.show()"
   ]
  },
  {
   "cell_type": "code",
   "execution_count": 11,
   "metadata": {},
   "outputs": [
    {
     "data": {
      "image/png": "[encoded data removed]",
      "text/plain": [
       "<Figure size 576x216 with 1 Axes>"
      ]
     },
     "metadata": {},
     "output_type": "display_data"
    }
   ],
   "source": [
    "import seaborn as sns\n",
    "sns.set_context('talk')\n",
    "sns.set_style('darkgrid')\n",
    "f, ax = plt.subplots(1,1,figsize=(8, 3), sharey = True)\n",
    "\n",
    "file = 0\n",
    "for sweepNum in abf.sweepList:\n",
    "    abf.setSweep(sweepNum)\n",
    "    ax.plot(abf.sweepX, abf.sweepY,\n",
    "             color='C0', lw=1, alpha = 0.5)\n",
    "\n",
    "#     ax.set_xlim([0.1078,0.1084])\n",
    "# ax.set_ylim([-600,600])\n",
    "plt.xlabel(abf.sweepLabelX)\n",
    "plt.xlim((0.1,0.4))\n",
    "plt.margins(0, .02)\n",
    "plt.tight_layout()"
   ]
  },
  {
   "cell_type": "code",
   "execution_count": null,
   "metadata": {},
   "outputs": [],
   "source": []
  }
 ],
 "metadata": {
  "kernelspec": {
   "display_name": "Python 3",
   "language": "python",
   "name": "python3"
  },
  "language_info": {
   "codemirror_mode": {
    "name": "ipython",
    "version": 3
   },
   "file_extension": ".py",
   "mimetype": "text/x-python",
   "name": "python",
   "nbconvert_exporter": "python",
   "pygments_lexer": "ipython3",
   "version": "3.7.4"
  }
 },
 "nbformat": 4,
 "nbformat_minor": 2
}
